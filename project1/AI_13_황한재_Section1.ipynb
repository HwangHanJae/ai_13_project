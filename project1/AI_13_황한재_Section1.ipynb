{
  "nbformat": 4,
  "nbformat_minor": 0,
  "metadata": {
    "colab": {
      "name": "AI_13_황한재_Section1.ipynb",
      "provenance": [],
      "collapsed_sections": [],
      "toc_visible": true,
      "authorship_tag": "ABX9TyPYL53VwoDSRZYxVqHniL/Z",
      "include_colab_link": true
    },
    "kernelspec": {
      "name": "python3",
      "display_name": "Python 3"
    },
    "language_info": {
      "name": "python"
    }
  },
  "cells": [
    {
      "cell_type": "markdown",
      "metadata": {
        "id": "view-in-github",
        "colab_type": "text"
      },
      "source": [
        "<a href=\"https://colab.research.google.com/github/HwangHanJae/ai_13_project/blob/main/project1/AI_13_%ED%99%A9%ED%95%9C%EC%9E%AC_Section1.ipynb\" target=\"_parent\"><img src=\"https://colab.research.google.com/assets/colab-badge.svg\" alt=\"Open In Colab\"/></a>"
      ]
    },
    {
      "cell_type": "markdown",
      "source": [
        "# 개요\n",
        "\n",
        "다음 분기에 어떤 게임을 설계해야 하는가?  \n",
        "\n",
        "--> **구체화를 시켜서 다음 분기에는 일본과 일본외의 지역에 어떤 게임을 설계해야 하는가**\n",
        "\n",
        "- 연도별 게임의 트렌드가 있는가\n",
        "- 지역에 따라서 선호하는 게임 장르가 다른가\n",
        "- 출고량이 높은 게임에 대한 분석 및 프로세스"
      ],
      "metadata": {
        "id": "0D7MlsXgwunF"
      }
    },
    {
      "cell_type": "markdown",
      "source": [
        "# Data Description\n",
        "\n",
        "`Name` : 게임의 이름  \n",
        "`Platform` : 게임이 지원되는 플랫폼의 이름  \n",
        "`Year` : 게임이 출시된 연도  \n",
        "`Genre` : 게임의 장르  \n",
        "`Publisher` : 게임을 제작한 회사  \n",
        "`NA_Sales` : 북미지역에서의 출고량  \n",
        "`EU_Sales` : 유럽지역에서의 출고량  \n",
        "`JP_Sales` : 일본지역에서의 출고량  \n",
        "`Other_Sales` : 기타지역에서의 출고량  "
      ],
      "metadata": {
        "id": "C91dO0swz6b9"
      }
    },
    {
      "cell_type": "markdown",
      "source": [
        "#데이터 확인 및 전처리"
      ],
      "metadata": {
        "id": "Z-HTCeAp6xtw"
      }
    },
    {
      "cell_type": "code",
      "source": [
        "#라이브러리 로드 및 데이터 로드\n",
        "import pandas as pd\n",
        "import numpy as np\n",
        "import matplotlib.pyplot as plt\n",
        "import seaborn as sns\n",
        "\n",
        "df = pd.read_csv(\"/content/vgames2.csv\")\n",
        "df.head(3)"
      ],
      "metadata": {
        "colab": {
          "base_uri": "https://localhost:8080/",
          "height": 291
        },
        "id": "wGOeyzXXz_jH",
        "outputId": "0f1c049b-2a50-4d2f-ca8a-34abff0bc475"
      },
      "execution_count": null,
      "outputs": [
        {
          "output_type": "execute_result",
          "data": {
            "text/plain": [
              "   Unnamed: 0                                            Name Platform  \\\n",
              "0           1                    Candace Kane's Candy Factory       DS   \n",
              "1           2                                  The Munchables      Wii   \n",
              "2           3  Otome wa Oanesama Boku ni Koi Shiteru Portable      PSP   \n",
              "\n",
              "     Year      Genre           Publisher NA_Sales EU_Sales JP_Sales  \\\n",
              "0  2008.0     Action           Destineer     0.04        0        0   \n",
              "1  2009.0     Action  Namco Bandai Games     0.17        0        0   \n",
              "2  2010.0  Adventure           Alchemist        0        0     0.02   \n",
              "\n",
              "  Other_Sales  \n",
              "0           0  \n",
              "1        0.01  \n",
              "2           0  "
            ],
            "text/html": [
              "\n",
              "  <div id=\"df-3e9ef873-38bc-4e91-9ff8-c3360eea6708\">\n",
              "    <div class=\"colab-df-container\">\n",
              "      <div>\n",
              "<style scoped>\n",
              "    .dataframe tbody tr th:only-of-type {\n",
              "        vertical-align: middle;\n",
              "    }\n",
              "\n",
              "    .dataframe tbody tr th {\n",
              "        vertical-align: top;\n",
              "    }\n",
              "\n",
              "    .dataframe thead th {\n",
              "        text-align: right;\n",
              "    }\n",
              "</style>\n",
              "<table border=\"1\" class=\"dataframe\">\n",
              "  <thead>\n",
              "    <tr style=\"text-align: right;\">\n",
              "      <th></th>\n",
              "      <th>Unnamed: 0</th>\n",
              "      <th>Name</th>\n",
              "      <th>Platform</th>\n",
              "      <th>Year</th>\n",
              "      <th>Genre</th>\n",
              "      <th>Publisher</th>\n",
              "      <th>NA_Sales</th>\n",
              "      <th>EU_Sales</th>\n",
              "      <th>JP_Sales</th>\n",
              "      <th>Other_Sales</th>\n",
              "    </tr>\n",
              "  </thead>\n",
              "  <tbody>\n",
              "    <tr>\n",
              "      <th>0</th>\n",
              "      <td>1</td>\n",
              "      <td>Candace Kane's Candy Factory</td>\n",
              "      <td>DS</td>\n",
              "      <td>2008.0</td>\n",
              "      <td>Action</td>\n",
              "      <td>Destineer</td>\n",
              "      <td>0.04</td>\n",
              "      <td>0</td>\n",
              "      <td>0</td>\n",
              "      <td>0</td>\n",
              "    </tr>\n",
              "    <tr>\n",
              "      <th>1</th>\n",
              "      <td>2</td>\n",
              "      <td>The Munchables</td>\n",
              "      <td>Wii</td>\n",
              "      <td>2009.0</td>\n",
              "      <td>Action</td>\n",
              "      <td>Namco Bandai Games</td>\n",
              "      <td>0.17</td>\n",
              "      <td>0</td>\n",
              "      <td>0</td>\n",
              "      <td>0.01</td>\n",
              "    </tr>\n",
              "    <tr>\n",
              "      <th>2</th>\n",
              "      <td>3</td>\n",
              "      <td>Otome wa Oanesama Boku ni Koi Shiteru Portable</td>\n",
              "      <td>PSP</td>\n",
              "      <td>2010.0</td>\n",
              "      <td>Adventure</td>\n",
              "      <td>Alchemist</td>\n",
              "      <td>0</td>\n",
              "      <td>0</td>\n",
              "      <td>0.02</td>\n",
              "      <td>0</td>\n",
              "    </tr>\n",
              "  </tbody>\n",
              "</table>\n",
              "</div>\n",
              "      <button class=\"colab-df-convert\" onclick=\"convertToInteractive('df-3e9ef873-38bc-4e91-9ff8-c3360eea6708')\"\n",
              "              title=\"Convert this dataframe to an interactive table.\"\n",
              "              style=\"display:none;\">\n",
              "        \n",
              "  <svg xmlns=\"http://www.w3.org/2000/svg\" height=\"24px\"viewBox=\"0 0 24 24\"\n",
              "       width=\"24px\">\n",
              "    <path d=\"M0 0h24v24H0V0z\" fill=\"none\"/>\n",
              "    <path d=\"M18.56 5.44l.94 2.06.94-2.06 2.06-.94-2.06-.94-.94-2.06-.94 2.06-2.06.94zm-11 1L8.5 8.5l.94-2.06 2.06-.94-2.06-.94L8.5 2.5l-.94 2.06-2.06.94zm10 10l.94 2.06.94-2.06 2.06-.94-2.06-.94-.94-2.06-.94 2.06-2.06.94z\"/><path d=\"M17.41 7.96l-1.37-1.37c-.4-.4-.92-.59-1.43-.59-.52 0-1.04.2-1.43.59L10.3 9.45l-7.72 7.72c-.78.78-.78 2.05 0 2.83L4 21.41c.39.39.9.59 1.41.59.51 0 1.02-.2 1.41-.59l7.78-7.78 2.81-2.81c.8-.78.8-2.07 0-2.86zM5.41 20L4 18.59l7.72-7.72 1.47 1.35L5.41 20z\"/>\n",
              "  </svg>\n",
              "      </button>\n",
              "      \n",
              "  <style>\n",
              "    .colab-df-container {\n",
              "      display:flex;\n",
              "      flex-wrap:wrap;\n",
              "      gap: 12px;\n",
              "    }\n",
              "\n",
              "    .colab-df-convert {\n",
              "      background-color: #E8F0FE;\n",
              "      border: none;\n",
              "      border-radius: 50%;\n",
              "      cursor: pointer;\n",
              "      display: none;\n",
              "      fill: #1967D2;\n",
              "      height: 32px;\n",
              "      padding: 0 0 0 0;\n",
              "      width: 32px;\n",
              "    }\n",
              "\n",
              "    .colab-df-convert:hover {\n",
              "      background-color: #E2EBFA;\n",
              "      box-shadow: 0px 1px 2px rgba(60, 64, 67, 0.3), 0px 1px 3px 1px rgba(60, 64, 67, 0.15);\n",
              "      fill: #174EA6;\n",
              "    }\n",
              "\n",
              "    [theme=dark] .colab-df-convert {\n",
              "      background-color: #3B4455;\n",
              "      fill: #D2E3FC;\n",
              "    }\n",
              "\n",
              "    [theme=dark] .colab-df-convert:hover {\n",
              "      background-color: #434B5C;\n",
              "      box-shadow: 0px 1px 3px 1px rgba(0, 0, 0, 0.15);\n",
              "      filter: drop-shadow(0px 1px 2px rgba(0, 0, 0, 0.3));\n",
              "      fill: #FFFFFF;\n",
              "    }\n",
              "  </style>\n",
              "\n",
              "      <script>\n",
              "        const buttonEl =\n",
              "          document.querySelector('#df-3e9ef873-38bc-4e91-9ff8-c3360eea6708 button.colab-df-convert');\n",
              "        buttonEl.style.display =\n",
              "          google.colab.kernel.accessAllowed ? 'block' : 'none';\n",
              "\n",
              "        async function convertToInteractive(key) {\n",
              "          const element = document.querySelector('#df-3e9ef873-38bc-4e91-9ff8-c3360eea6708');\n",
              "          const dataTable =\n",
              "            await google.colab.kernel.invokeFunction('convertToInteractive',\n",
              "                                                     [key], {});\n",
              "          if (!dataTable) return;\n",
              "\n",
              "          const docLinkHtml = 'Like what you see? Visit the ' +\n",
              "            '<a target=\"_blank\" href=https://colab.research.google.com/notebooks/data_table.ipynb>data table notebook</a>'\n",
              "            + ' to learn more about interactive tables.';\n",
              "          element.innerHTML = '';\n",
              "          dataTable['output_type'] = 'display_data';\n",
              "          await google.colab.output.renderOutput(dataTable, element);\n",
              "          const docLink = document.createElement('div');\n",
              "          docLink.innerHTML = docLinkHtml;\n",
              "          element.appendChild(docLink);\n",
              "        }\n",
              "      </script>\n",
              "    </div>\n",
              "  </div>\n",
              "  "
            ]
          },
          "metadata": {},
          "execution_count": 1
        }
      ]
    },
    {
      "cell_type": "code",
      "source": [
        "#데이터의 크기 확인\n",
        "df.shape"
      ],
      "metadata": {
        "colab": {
          "base_uri": "https://localhost:8080/"
        },
        "id": "uPvRFcnc6XNi",
        "outputId": "49570fa2-ae61-400a-bca8-96b813164c16"
      },
      "execution_count": null,
      "outputs": [
        {
          "output_type": "execute_result",
          "data": {
            "text/plain": [
              "(16598, 10)"
            ]
          },
          "metadata": {},
          "execution_count": 2
        }
      ]
    },
    {
      "cell_type": "code",
      "source": [
        "#결측치가 존재하는 것을 확인\n",
        "df.isnull().sum()"
      ],
      "metadata": {
        "colab": {
          "base_uri": "https://localhost:8080/"
        },
        "id": "CHs7aC0Y6hos",
        "outputId": "01bf5f54-d31d-486b-b70d-d1c5624bd5ca"
      },
      "execution_count": null,
      "outputs": [
        {
          "output_type": "execute_result",
          "data": {
            "text/plain": [
              "Unnamed: 0       0\n",
              "Name             0\n",
              "Platform         0\n",
              "Year           271\n",
              "Genre           50\n",
              "Publisher       58\n",
              "NA_Sales         0\n",
              "EU_Sales         0\n",
              "JP_Sales         0\n",
              "Other_Sales      0\n",
              "dtype: int64"
            ]
          },
          "metadata": {},
          "execution_count": 3
        }
      ]
    },
    {
      "cell_type": "code",
      "source": [
        "#결측치 데이터 확인\n",
        "null_df = df.loc[(df['Year'].isnull())|(df['Genre'].isnull())|(df['Publisher'].isnull())]\n",
        "null_df.head(3)"
      ],
      "metadata": {
        "colab": {
          "base_uri": "https://localhost:8080/",
          "height": 257
        },
        "id": "PuS6bTGU6jIY",
        "outputId": "cff7559d-d597-4fc5-a312-bf1a19dc74f6"
      },
      "execution_count": null,
      "outputs": [
        {
          "output_type": "execute_result",
          "data": {
            "text/plain": [
              "     Unnamed: 0                                        Name Platform    Year  \\\n",
              "31           32                                   Rock Band     X360     NaN   \n",
              "50           51                    Ape Escape: On the Loose      PSP  2005.0   \n",
              "109         110  Yu-Gi-Oh! 5D's Wheelie Breakers (JP sales)      Wii     NaN   \n",
              "\n",
              "      Genre                    Publisher NA_Sales EU_Sales JP_Sales  \\\n",
              "31     Misc              Electronic Arts     1.93     0.34        0   \n",
              "50      NaN  Sony Computer Entertainment     0.52     0.01     0.12   \n",
              "109  Racing                      Unknown        0        0     0.02   \n",
              "\n",
              "    Other_Sales  \n",
              "31         0.21  \n",
              "50         0.05  \n",
              "109           0  "
            ],
            "text/html": [
              "\n",
              "  <div id=\"df-2cd51d3f-9523-40b0-bf5f-059936683da5\">\n",
              "    <div class=\"colab-df-container\">\n",
              "      <div>\n",
              "<style scoped>\n",
              "    .dataframe tbody tr th:only-of-type {\n",
              "        vertical-align: middle;\n",
              "    }\n",
              "\n",
              "    .dataframe tbody tr th {\n",
              "        vertical-align: top;\n",
              "    }\n",
              "\n",
              "    .dataframe thead th {\n",
              "        text-align: right;\n",
              "    }\n",
              "</style>\n",
              "<table border=\"1\" class=\"dataframe\">\n",
              "  <thead>\n",
              "    <tr style=\"text-align: right;\">\n",
              "      <th></th>\n",
              "      <th>Unnamed: 0</th>\n",
              "      <th>Name</th>\n",
              "      <th>Platform</th>\n",
              "      <th>Year</th>\n",
              "      <th>Genre</th>\n",
              "      <th>Publisher</th>\n",
              "      <th>NA_Sales</th>\n",
              "      <th>EU_Sales</th>\n",
              "      <th>JP_Sales</th>\n",
              "      <th>Other_Sales</th>\n",
              "    </tr>\n",
              "  </thead>\n",
              "  <tbody>\n",
              "    <tr>\n",
              "      <th>31</th>\n",
              "      <td>32</td>\n",
              "      <td>Rock Band</td>\n",
              "      <td>X360</td>\n",
              "      <td>NaN</td>\n",
              "      <td>Misc</td>\n",
              "      <td>Electronic Arts</td>\n",
              "      <td>1.93</td>\n",
              "      <td>0.34</td>\n",
              "      <td>0</td>\n",
              "      <td>0.21</td>\n",
              "    </tr>\n",
              "    <tr>\n",
              "      <th>50</th>\n",
              "      <td>51</td>\n",
              "      <td>Ape Escape: On the Loose</td>\n",
              "      <td>PSP</td>\n",
              "      <td>2005.0</td>\n",
              "      <td>NaN</td>\n",
              "      <td>Sony Computer Entertainment</td>\n",
              "      <td>0.52</td>\n",
              "      <td>0.01</td>\n",
              "      <td>0.12</td>\n",
              "      <td>0.05</td>\n",
              "    </tr>\n",
              "    <tr>\n",
              "      <th>109</th>\n",
              "      <td>110</td>\n",
              "      <td>Yu-Gi-Oh! 5D's Wheelie Breakers (JP sales)</td>\n",
              "      <td>Wii</td>\n",
              "      <td>NaN</td>\n",
              "      <td>Racing</td>\n",
              "      <td>Unknown</td>\n",
              "      <td>0</td>\n",
              "      <td>0</td>\n",
              "      <td>0.02</td>\n",
              "      <td>0</td>\n",
              "    </tr>\n",
              "  </tbody>\n",
              "</table>\n",
              "</div>\n",
              "      <button class=\"colab-df-convert\" onclick=\"convertToInteractive('df-2cd51d3f-9523-40b0-bf5f-059936683da5')\"\n",
              "              title=\"Convert this dataframe to an interactive table.\"\n",
              "              style=\"display:none;\">\n",
              "        \n",
              "  <svg xmlns=\"http://www.w3.org/2000/svg\" height=\"24px\"viewBox=\"0 0 24 24\"\n",
              "       width=\"24px\">\n",
              "    <path d=\"M0 0h24v24H0V0z\" fill=\"none\"/>\n",
              "    <path d=\"M18.56 5.44l.94 2.06.94-2.06 2.06-.94-2.06-.94-.94-2.06-.94 2.06-2.06.94zm-11 1L8.5 8.5l.94-2.06 2.06-.94-2.06-.94L8.5 2.5l-.94 2.06-2.06.94zm10 10l.94 2.06.94-2.06 2.06-.94-2.06-.94-.94-2.06-.94 2.06-2.06.94z\"/><path d=\"M17.41 7.96l-1.37-1.37c-.4-.4-.92-.59-1.43-.59-.52 0-1.04.2-1.43.59L10.3 9.45l-7.72 7.72c-.78.78-.78 2.05 0 2.83L4 21.41c.39.39.9.59 1.41.59.51 0 1.02-.2 1.41-.59l7.78-7.78 2.81-2.81c.8-.78.8-2.07 0-2.86zM5.41 20L4 18.59l7.72-7.72 1.47 1.35L5.41 20z\"/>\n",
              "  </svg>\n",
              "      </button>\n",
              "      \n",
              "  <style>\n",
              "    .colab-df-container {\n",
              "      display:flex;\n",
              "      flex-wrap:wrap;\n",
              "      gap: 12px;\n",
              "    }\n",
              "\n",
              "    .colab-df-convert {\n",
              "      background-color: #E8F0FE;\n",
              "      border: none;\n",
              "      border-radius: 50%;\n",
              "      cursor: pointer;\n",
              "      display: none;\n",
              "      fill: #1967D2;\n",
              "      height: 32px;\n",
              "      padding: 0 0 0 0;\n",
              "      width: 32px;\n",
              "    }\n",
              "\n",
              "    .colab-df-convert:hover {\n",
              "      background-color: #E2EBFA;\n",
              "      box-shadow: 0px 1px 2px rgba(60, 64, 67, 0.3), 0px 1px 3px 1px rgba(60, 64, 67, 0.15);\n",
              "      fill: #174EA6;\n",
              "    }\n",
              "\n",
              "    [theme=dark] .colab-df-convert {\n",
              "      background-color: #3B4455;\n",
              "      fill: #D2E3FC;\n",
              "    }\n",
              "\n",
              "    [theme=dark] .colab-df-convert:hover {\n",
              "      background-color: #434B5C;\n",
              "      box-shadow: 0px 1px 3px 1px rgba(0, 0, 0, 0.15);\n",
              "      filter: drop-shadow(0px 1px 2px rgba(0, 0, 0, 0.3));\n",
              "      fill: #FFFFFF;\n",
              "    }\n",
              "  </style>\n",
              "\n",
              "      <script>\n",
              "        const buttonEl =\n",
              "          document.querySelector('#df-2cd51d3f-9523-40b0-bf5f-059936683da5 button.colab-df-convert');\n",
              "        buttonEl.style.display =\n",
              "          google.colab.kernel.accessAllowed ? 'block' : 'none';\n",
              "\n",
              "        async function convertToInteractive(key) {\n",
              "          const element = document.querySelector('#df-2cd51d3f-9523-40b0-bf5f-059936683da5');\n",
              "          const dataTable =\n",
              "            await google.colab.kernel.invokeFunction('convertToInteractive',\n",
              "                                                     [key], {});\n",
              "          if (!dataTable) return;\n",
              "\n",
              "          const docLinkHtml = 'Like what you see? Visit the ' +\n",
              "            '<a target=\"_blank\" href=https://colab.research.google.com/notebooks/data_table.ipynb>data table notebook</a>'\n",
              "            + ' to learn more about interactive tables.';\n",
              "          element.innerHTML = '';\n",
              "          dataTable['output_type'] = 'display_data';\n",
              "          await google.colab.output.renderOutput(dataTable, element);\n",
              "          const docLink = document.createElement('div');\n",
              "          docLink.innerHTML = docLinkHtml;\n",
              "          element.appendChild(docLink);\n",
              "        }\n",
              "      </script>\n",
              "    </div>\n",
              "  </div>\n",
              "  "
            ]
          },
          "metadata": {},
          "execution_count": 4
        }
      ]
    },
    {
      "cell_type": "code",
      "source": [
        "#결측치 데이터 수\n",
        "null_df.shape"
      ],
      "metadata": {
        "colab": {
          "base_uri": "https://localhost:8080/"
        },
        "id": "RLgGOZfw6m-P",
        "outputId": "fc1a9504-9af0-416c-c565-318f21261bba"
      },
      "execution_count": null,
      "outputs": [
        {
          "output_type": "execute_result",
          "data": {
            "text/plain": [
              "(357, 10)"
            ]
          },
          "metadata": {},
          "execution_count": 5
        }
      ]
    },
    {
      "cell_type": "code",
      "source": [
        "#2퍼센트 정도의 데이터가 결측치 확인\n",
        "round((null_df.shape[0] / df.shape[0]) * 100, 2)"
      ],
      "metadata": {
        "colab": {
          "base_uri": "https://localhost:8080/"
        },
        "id": "h2oGHiWc6nmy",
        "outputId": "08339dcd-df15-48e8-8717-9214e52033be"
      },
      "execution_count": null,
      "outputs": [
        {
          "output_type": "execute_result",
          "data": {
            "text/plain": [
              "2.15"
            ]
          },
          "metadata": {},
          "execution_count": 6
        }
      ]
    },
    {
      "cell_type": "code",
      "source": [
        "#2퍼센트 정도는 제거해도 분석을 하는데 큰 영향이 없을 것이라 판단하여 제거\n",
        "df = df.dropna()\n",
        "df = df.reset_index(drop=True)\n",
        "df.head()"
      ],
      "metadata": {
        "colab": {
          "base_uri": "https://localhost:8080/",
          "height": 371
        },
        "id": "stf20HLI6qRb",
        "outputId": "b8c0b799-ce47-45a7-dc57-369487de83ea"
      },
      "execution_count": null,
      "outputs": [
        {
          "output_type": "execute_result",
          "data": {
            "text/plain": [
              "   Unnamed: 0                                            Name Platform  \\\n",
              "0           1                    Candace Kane's Candy Factory       DS   \n",
              "1           2                                  The Munchables      Wii   \n",
              "2           3  Otome wa Oanesama Boku ni Koi Shiteru Portable      PSP   \n",
              "3           4                Deal or No Deal: Special Edition       DS   \n",
              "4           5       Ben 10 Ultimate Alien: Cosmic Destruction      PS3   \n",
              "\n",
              "     Year      Genre           Publisher NA_Sales EU_Sales JP_Sales  \\\n",
              "0  2008.0     Action           Destineer     0.04        0        0   \n",
              "1  2009.0     Action  Namco Bandai Games     0.17        0        0   \n",
              "2  2010.0  Adventure           Alchemist        0        0     0.02   \n",
              "3  2010.0       Misc           Zoo Games     0.04        0        0   \n",
              "4  2010.0   Platform         D3Publisher     0.12     0.09        0   \n",
              "\n",
              "  Other_Sales  \n",
              "0           0  \n",
              "1        0.01  \n",
              "2           0  \n",
              "3           0  \n",
              "4        0.04  "
            ],
            "text/html": [
              "\n",
              "  <div id=\"df-53ee1abf-b7bb-403f-ab12-aaad51f644d4\">\n",
              "    <div class=\"colab-df-container\">\n",
              "      <div>\n",
              "<style scoped>\n",
              "    .dataframe tbody tr th:only-of-type {\n",
              "        vertical-align: middle;\n",
              "    }\n",
              "\n",
              "    .dataframe tbody tr th {\n",
              "        vertical-align: top;\n",
              "    }\n",
              "\n",
              "    .dataframe thead th {\n",
              "        text-align: right;\n",
              "    }\n",
              "</style>\n",
              "<table border=\"1\" class=\"dataframe\">\n",
              "  <thead>\n",
              "    <tr style=\"text-align: right;\">\n",
              "      <th></th>\n",
              "      <th>Unnamed: 0</th>\n",
              "      <th>Name</th>\n",
              "      <th>Platform</th>\n",
              "      <th>Year</th>\n",
              "      <th>Genre</th>\n",
              "      <th>Publisher</th>\n",
              "      <th>NA_Sales</th>\n",
              "      <th>EU_Sales</th>\n",
              "      <th>JP_Sales</th>\n",
              "      <th>Other_Sales</th>\n",
              "    </tr>\n",
              "  </thead>\n",
              "  <tbody>\n",
              "    <tr>\n",
              "      <th>0</th>\n",
              "      <td>1</td>\n",
              "      <td>Candace Kane's Candy Factory</td>\n",
              "      <td>DS</td>\n",
              "      <td>2008.0</td>\n",
              "      <td>Action</td>\n",
              "      <td>Destineer</td>\n",
              "      <td>0.04</td>\n",
              "      <td>0</td>\n",
              "      <td>0</td>\n",
              "      <td>0</td>\n",
              "    </tr>\n",
              "    <tr>\n",
              "      <th>1</th>\n",
              "      <td>2</td>\n",
              "      <td>The Munchables</td>\n",
              "      <td>Wii</td>\n",
              "      <td>2009.0</td>\n",
              "      <td>Action</td>\n",
              "      <td>Namco Bandai Games</td>\n",
              "      <td>0.17</td>\n",
              "      <td>0</td>\n",
              "      <td>0</td>\n",
              "      <td>0.01</td>\n",
              "    </tr>\n",
              "    <tr>\n",
              "      <th>2</th>\n",
              "      <td>3</td>\n",
              "      <td>Otome wa Oanesama Boku ni Koi Shiteru Portable</td>\n",
              "      <td>PSP</td>\n",
              "      <td>2010.0</td>\n",
              "      <td>Adventure</td>\n",
              "      <td>Alchemist</td>\n",
              "      <td>0</td>\n",
              "      <td>0</td>\n",
              "      <td>0.02</td>\n",
              "      <td>0</td>\n",
              "    </tr>\n",
              "    <tr>\n",
              "      <th>3</th>\n",
              "      <td>4</td>\n",
              "      <td>Deal or No Deal: Special Edition</td>\n",
              "      <td>DS</td>\n",
              "      <td>2010.0</td>\n",
              "      <td>Misc</td>\n",
              "      <td>Zoo Games</td>\n",
              "      <td>0.04</td>\n",
              "      <td>0</td>\n",
              "      <td>0</td>\n",
              "      <td>0</td>\n",
              "    </tr>\n",
              "    <tr>\n",
              "      <th>4</th>\n",
              "      <td>5</td>\n",
              "      <td>Ben 10 Ultimate Alien: Cosmic Destruction</td>\n",
              "      <td>PS3</td>\n",
              "      <td>2010.0</td>\n",
              "      <td>Platform</td>\n",
              "      <td>D3Publisher</td>\n",
              "      <td>0.12</td>\n",
              "      <td>0.09</td>\n",
              "      <td>0</td>\n",
              "      <td>0.04</td>\n",
              "    </tr>\n",
              "  </tbody>\n",
              "</table>\n",
              "</div>\n",
              "      <button class=\"colab-df-convert\" onclick=\"convertToInteractive('df-53ee1abf-b7bb-403f-ab12-aaad51f644d4')\"\n",
              "              title=\"Convert this dataframe to an interactive table.\"\n",
              "              style=\"display:none;\">\n",
              "        \n",
              "  <svg xmlns=\"http://www.w3.org/2000/svg\" height=\"24px\"viewBox=\"0 0 24 24\"\n",
              "       width=\"24px\">\n",
              "    <path d=\"M0 0h24v24H0V0z\" fill=\"none\"/>\n",
              "    <path d=\"M18.56 5.44l.94 2.06.94-2.06 2.06-.94-2.06-.94-.94-2.06-.94 2.06-2.06.94zm-11 1L8.5 8.5l.94-2.06 2.06-.94-2.06-.94L8.5 2.5l-.94 2.06-2.06.94zm10 10l.94 2.06.94-2.06 2.06-.94-2.06-.94-.94-2.06-.94 2.06-2.06.94z\"/><path d=\"M17.41 7.96l-1.37-1.37c-.4-.4-.92-.59-1.43-.59-.52 0-1.04.2-1.43.59L10.3 9.45l-7.72 7.72c-.78.78-.78 2.05 0 2.83L4 21.41c.39.39.9.59 1.41.59.51 0 1.02-.2 1.41-.59l7.78-7.78 2.81-2.81c.8-.78.8-2.07 0-2.86zM5.41 20L4 18.59l7.72-7.72 1.47 1.35L5.41 20z\"/>\n",
              "  </svg>\n",
              "      </button>\n",
              "      \n",
              "  <style>\n",
              "    .colab-df-container {\n",
              "      display:flex;\n",
              "      flex-wrap:wrap;\n",
              "      gap: 12px;\n",
              "    }\n",
              "\n",
              "    .colab-df-convert {\n",
              "      background-color: #E8F0FE;\n",
              "      border: none;\n",
              "      border-radius: 50%;\n",
              "      cursor: pointer;\n",
              "      display: none;\n",
              "      fill: #1967D2;\n",
              "      height: 32px;\n",
              "      padding: 0 0 0 0;\n",
              "      width: 32px;\n",
              "    }\n",
              "\n",
              "    .colab-df-convert:hover {\n",
              "      background-color: #E2EBFA;\n",
              "      box-shadow: 0px 1px 2px rgba(60, 64, 67, 0.3), 0px 1px 3px 1px rgba(60, 64, 67, 0.15);\n",
              "      fill: #174EA6;\n",
              "    }\n",
              "\n",
              "    [theme=dark] .colab-df-convert {\n",
              "      background-color: #3B4455;\n",
              "      fill: #D2E3FC;\n",
              "    }\n",
              "\n",
              "    [theme=dark] .colab-df-convert:hover {\n",
              "      background-color: #434B5C;\n",
              "      box-shadow: 0px 1px 3px 1px rgba(0, 0, 0, 0.15);\n",
              "      filter: drop-shadow(0px 1px 2px rgba(0, 0, 0, 0.3));\n",
              "      fill: #FFFFFF;\n",
              "    }\n",
              "  </style>\n",
              "\n",
              "      <script>\n",
              "        const buttonEl =\n",
              "          document.querySelector('#df-53ee1abf-b7bb-403f-ab12-aaad51f644d4 button.colab-df-convert');\n",
              "        buttonEl.style.display =\n",
              "          google.colab.kernel.accessAllowed ? 'block' : 'none';\n",
              "\n",
              "        async function convertToInteractive(key) {\n",
              "          const element = document.querySelector('#df-53ee1abf-b7bb-403f-ab12-aaad51f644d4');\n",
              "          const dataTable =\n",
              "            await google.colab.kernel.invokeFunction('convertToInteractive',\n",
              "                                                     [key], {});\n",
              "          if (!dataTable) return;\n",
              "\n",
              "          const docLinkHtml = 'Like what you see? Visit the ' +\n",
              "            '<a target=\"_blank\" href=https://colab.research.google.com/notebooks/data_table.ipynb>data table notebook</a>'\n",
              "            + ' to learn more about interactive tables.';\n",
              "          element.innerHTML = '';\n",
              "          dataTable['output_type'] = 'display_data';\n",
              "          await google.colab.output.renderOutput(dataTable, element);\n",
              "          const docLink = document.createElement('div');\n",
              "          docLink.innerHTML = docLinkHtml;\n",
              "          element.appendChild(docLink);\n",
              "        }\n",
              "      </script>\n",
              "    </div>\n",
              "  </div>\n",
              "  "
            ]
          },
          "metadata": {},
          "execution_count": 7
        }
      ]
    },
    {
      "cell_type": "code",
      "source": [
        "#불필요한 컬럼 제거\n",
        "df = df.drop(\"Unnamed: 0\", axis=1)"
      ],
      "metadata": {
        "id": "azKazwMW6wqm"
      },
      "execution_count": null,
      "outputs": []
    },
    {
      "cell_type": "code",
      "source": [
        "#출고량 피처 확인\n",
        "#데이터에 M,K와 같은 문자값이 적용이 되있는것을 확인할 수 있음\n",
        "#M은 백만, K는 천 단위로 판단\n",
        "#아무것도 없는 값도 백만으로 판단하여 백만단위 기준으로 변환\n",
        "df.loc[df['NA_Sales'].str.find(\"M\") != -1].head(3)"
      ],
      "metadata": {
        "colab": {
          "base_uri": "https://localhost:8080/",
          "height": 143
        },
        "id": "kREdIgV761ca",
        "outputId": "2217085c-e937-416a-af6c-1b693b33622c"
      },
      "execution_count": null,
      "outputs": [
        {
          "output_type": "execute_result",
          "data": {
            "text/plain": [
              "                           Name Platform    Year   Genre        Publisher  \\\n",
              "439  Medal of Honor: Warfighter     X360  2012.0  Action  Electronic Arts   \n",
              "450                     F1 2010      PS3  2010.0  Racing      Codemasters   \n",
              "568               Mario Kart 64      N64  1996.0  Racing         Nintendo   \n",
              "\n",
              "    NA_Sales EU_Sales JP_Sales Other_Sales  \n",
              "439    0.58M     0.47     0.01         0.1  \n",
              "450    0.25M     0.76     0.08        0.27  \n",
              "568    5.55M     1.94     2.23        0.15  "
            ],
            "text/html": [
              "\n",
              "  <div id=\"df-5403795f-6c2e-41dc-9b36-2c256ae904b9\">\n",
              "    <div class=\"colab-df-container\">\n",
              "      <div>\n",
              "<style scoped>\n",
              "    .dataframe tbody tr th:only-of-type {\n",
              "        vertical-align: middle;\n",
              "    }\n",
              "\n",
              "    .dataframe tbody tr th {\n",
              "        vertical-align: top;\n",
              "    }\n",
              "\n",
              "    .dataframe thead th {\n",
              "        text-align: right;\n",
              "    }\n",
              "</style>\n",
              "<table border=\"1\" class=\"dataframe\">\n",
              "  <thead>\n",
              "    <tr style=\"text-align: right;\">\n",
              "      <th></th>\n",
              "      <th>Name</th>\n",
              "      <th>Platform</th>\n",
              "      <th>Year</th>\n",
              "      <th>Genre</th>\n",
              "      <th>Publisher</th>\n",
              "      <th>NA_Sales</th>\n",
              "      <th>EU_Sales</th>\n",
              "      <th>JP_Sales</th>\n",
              "      <th>Other_Sales</th>\n",
              "    </tr>\n",
              "  </thead>\n",
              "  <tbody>\n",
              "    <tr>\n",
              "      <th>439</th>\n",
              "      <td>Medal of Honor: Warfighter</td>\n",
              "      <td>X360</td>\n",
              "      <td>2012.0</td>\n",
              "      <td>Action</td>\n",
              "      <td>Electronic Arts</td>\n",
              "      <td>0.58M</td>\n",
              "      <td>0.47</td>\n",
              "      <td>0.01</td>\n",
              "      <td>0.1</td>\n",
              "    </tr>\n",
              "    <tr>\n",
              "      <th>450</th>\n",
              "      <td>F1 2010</td>\n",
              "      <td>PS3</td>\n",
              "      <td>2010.0</td>\n",
              "      <td>Racing</td>\n",
              "      <td>Codemasters</td>\n",
              "      <td>0.25M</td>\n",
              "      <td>0.76</td>\n",
              "      <td>0.08</td>\n",
              "      <td>0.27</td>\n",
              "    </tr>\n",
              "    <tr>\n",
              "      <th>568</th>\n",
              "      <td>Mario Kart 64</td>\n",
              "      <td>N64</td>\n",
              "      <td>1996.0</td>\n",
              "      <td>Racing</td>\n",
              "      <td>Nintendo</td>\n",
              "      <td>5.55M</td>\n",
              "      <td>1.94</td>\n",
              "      <td>2.23</td>\n",
              "      <td>0.15</td>\n",
              "    </tr>\n",
              "  </tbody>\n",
              "</table>\n",
              "</div>\n",
              "      <button class=\"colab-df-convert\" onclick=\"convertToInteractive('df-5403795f-6c2e-41dc-9b36-2c256ae904b9')\"\n",
              "              title=\"Convert this dataframe to an interactive table.\"\n",
              "              style=\"display:none;\">\n",
              "        \n",
              "  <svg xmlns=\"http://www.w3.org/2000/svg\" height=\"24px\"viewBox=\"0 0 24 24\"\n",
              "       width=\"24px\">\n",
              "    <path d=\"M0 0h24v24H0V0z\" fill=\"none\"/>\n",
              "    <path d=\"M18.56 5.44l.94 2.06.94-2.06 2.06-.94-2.06-.94-.94-2.06-.94 2.06-2.06.94zm-11 1L8.5 8.5l.94-2.06 2.06-.94-2.06-.94L8.5 2.5l-.94 2.06-2.06.94zm10 10l.94 2.06.94-2.06 2.06-.94-2.06-.94-.94-2.06-.94 2.06-2.06.94z\"/><path d=\"M17.41 7.96l-1.37-1.37c-.4-.4-.92-.59-1.43-.59-.52 0-1.04.2-1.43.59L10.3 9.45l-7.72 7.72c-.78.78-.78 2.05 0 2.83L4 21.41c.39.39.9.59 1.41.59.51 0 1.02-.2 1.41-.59l7.78-7.78 2.81-2.81c.8-.78.8-2.07 0-2.86zM5.41 20L4 18.59l7.72-7.72 1.47 1.35L5.41 20z\"/>\n",
              "  </svg>\n",
              "      </button>\n",
              "      \n",
              "  <style>\n",
              "    .colab-df-container {\n",
              "      display:flex;\n",
              "      flex-wrap:wrap;\n",
              "      gap: 12px;\n",
              "    }\n",
              "\n",
              "    .colab-df-convert {\n",
              "      background-color: #E8F0FE;\n",
              "      border: none;\n",
              "      border-radius: 50%;\n",
              "      cursor: pointer;\n",
              "      display: none;\n",
              "      fill: #1967D2;\n",
              "      height: 32px;\n",
              "      padding: 0 0 0 0;\n",
              "      width: 32px;\n",
              "    }\n",
              "\n",
              "    .colab-df-convert:hover {\n",
              "      background-color: #E2EBFA;\n",
              "      box-shadow: 0px 1px 2px rgba(60, 64, 67, 0.3), 0px 1px 3px 1px rgba(60, 64, 67, 0.15);\n",
              "      fill: #174EA6;\n",
              "    }\n",
              "\n",
              "    [theme=dark] .colab-df-convert {\n",
              "      background-color: #3B4455;\n",
              "      fill: #D2E3FC;\n",
              "    }\n",
              "\n",
              "    [theme=dark] .colab-df-convert:hover {\n",
              "      background-color: #434B5C;\n",
              "      box-shadow: 0px 1px 3px 1px rgba(0, 0, 0, 0.15);\n",
              "      filter: drop-shadow(0px 1px 2px rgba(0, 0, 0, 0.3));\n",
              "      fill: #FFFFFF;\n",
              "    }\n",
              "  </style>\n",
              "\n",
              "      <script>\n",
              "        const buttonEl =\n",
              "          document.querySelector('#df-5403795f-6c2e-41dc-9b36-2c256ae904b9 button.colab-df-convert');\n",
              "        buttonEl.style.display =\n",
              "          google.colab.kernel.accessAllowed ? 'block' : 'none';\n",
              "\n",
              "        async function convertToInteractive(key) {\n",
              "          const element = document.querySelector('#df-5403795f-6c2e-41dc-9b36-2c256ae904b9');\n",
              "          const dataTable =\n",
              "            await google.colab.kernel.invokeFunction('convertToInteractive',\n",
              "                                                     [key], {});\n",
              "          if (!dataTable) return;\n",
              "\n",
              "          const docLinkHtml = 'Like what you see? Visit the ' +\n",
              "            '<a target=\"_blank\" href=https://colab.research.google.com/notebooks/data_table.ipynb>data table notebook</a>'\n",
              "            + ' to learn more about interactive tables.';\n",
              "          element.innerHTML = '';\n",
              "          dataTable['output_type'] = 'display_data';\n",
              "          await google.colab.output.renderOutput(dataTable, element);\n",
              "          const docLink = document.createElement('div');\n",
              "          docLink.innerHTML = docLinkHtml;\n",
              "          element.appendChild(docLink);\n",
              "        }\n",
              "      </script>\n",
              "    </div>\n",
              "  </div>\n",
              "  "
            ]
          },
          "metadata": {},
          "execution_count": 9
        }
      ]
    },
    {
      "cell_type": "code",
      "source": [
        "df.loc[df['NA_Sales'].str.find(\"K\") != -1].head(3)"
      ],
      "metadata": {
        "colab": {
          "base_uri": "https://localhost:8080/",
          "height": 143
        },
        "id": "f3HKM-ye64N2",
        "outputId": "72e9d5c7-fa59-431f-c818-449059656669"
      },
      "execution_count": null,
      "outputs": [
        {
          "output_type": "execute_result",
          "data": {
            "text/plain": [
              "                             Name Platform    Year   Genre  \\\n",
              "10                    Ford Racing       PS  2001.0  Racing   \n",
              "44   Resident Evil: Revelations 2      PS3  2015.0  Action   \n",
              "142            TOCA Race Driver 3       PC  2006.0  Racing   \n",
              "\n",
              "              Publisher NA_Sales EU_Sales JP_Sales Other_Sales  \n",
              "10   Empire Interactive     480K    0.33M       0K        0.06  \n",
              "44               Capcom      60K     0.08     0.16        0.03  \n",
              "142         Codemasters       0K     0.02        0           0  "
            ],
            "text/html": [
              "\n",
              "  <div id=\"df-88784042-4b8b-4f4e-b3c0-c86f776e0801\">\n",
              "    <div class=\"colab-df-container\">\n",
              "      <div>\n",
              "<style scoped>\n",
              "    .dataframe tbody tr th:only-of-type {\n",
              "        vertical-align: middle;\n",
              "    }\n",
              "\n",
              "    .dataframe tbody tr th {\n",
              "        vertical-align: top;\n",
              "    }\n",
              "\n",
              "    .dataframe thead th {\n",
              "        text-align: right;\n",
              "    }\n",
              "</style>\n",
              "<table border=\"1\" class=\"dataframe\">\n",
              "  <thead>\n",
              "    <tr style=\"text-align: right;\">\n",
              "      <th></th>\n",
              "      <th>Name</th>\n",
              "      <th>Platform</th>\n",
              "      <th>Year</th>\n",
              "      <th>Genre</th>\n",
              "      <th>Publisher</th>\n",
              "      <th>NA_Sales</th>\n",
              "      <th>EU_Sales</th>\n",
              "      <th>JP_Sales</th>\n",
              "      <th>Other_Sales</th>\n",
              "    </tr>\n",
              "  </thead>\n",
              "  <tbody>\n",
              "    <tr>\n",
              "      <th>10</th>\n",
              "      <td>Ford Racing</td>\n",
              "      <td>PS</td>\n",
              "      <td>2001.0</td>\n",
              "      <td>Racing</td>\n",
              "      <td>Empire Interactive</td>\n",
              "      <td>480K</td>\n",
              "      <td>0.33M</td>\n",
              "      <td>0K</td>\n",
              "      <td>0.06</td>\n",
              "    </tr>\n",
              "    <tr>\n",
              "      <th>44</th>\n",
              "      <td>Resident Evil: Revelations 2</td>\n",
              "      <td>PS3</td>\n",
              "      <td>2015.0</td>\n",
              "      <td>Action</td>\n",
              "      <td>Capcom</td>\n",
              "      <td>60K</td>\n",
              "      <td>0.08</td>\n",
              "      <td>0.16</td>\n",
              "      <td>0.03</td>\n",
              "    </tr>\n",
              "    <tr>\n",
              "      <th>142</th>\n",
              "      <td>TOCA Race Driver 3</td>\n",
              "      <td>PC</td>\n",
              "      <td>2006.0</td>\n",
              "      <td>Racing</td>\n",
              "      <td>Codemasters</td>\n",
              "      <td>0K</td>\n",
              "      <td>0.02</td>\n",
              "      <td>0</td>\n",
              "      <td>0</td>\n",
              "    </tr>\n",
              "  </tbody>\n",
              "</table>\n",
              "</div>\n",
              "      <button class=\"colab-df-convert\" onclick=\"convertToInteractive('df-88784042-4b8b-4f4e-b3c0-c86f776e0801')\"\n",
              "              title=\"Convert this dataframe to an interactive table.\"\n",
              "              style=\"display:none;\">\n",
              "        \n",
              "  <svg xmlns=\"http://www.w3.org/2000/svg\" height=\"24px\"viewBox=\"0 0 24 24\"\n",
              "       width=\"24px\">\n",
              "    <path d=\"M0 0h24v24H0V0z\" fill=\"none\"/>\n",
              "    <path d=\"M18.56 5.44l.94 2.06.94-2.06 2.06-.94-2.06-.94-.94-2.06-.94 2.06-2.06.94zm-11 1L8.5 8.5l.94-2.06 2.06-.94-2.06-.94L8.5 2.5l-.94 2.06-2.06.94zm10 10l.94 2.06.94-2.06 2.06-.94-2.06-.94-.94-2.06-.94 2.06-2.06.94z\"/><path d=\"M17.41 7.96l-1.37-1.37c-.4-.4-.92-.59-1.43-.59-.52 0-1.04.2-1.43.59L10.3 9.45l-7.72 7.72c-.78.78-.78 2.05 0 2.83L4 21.41c.39.39.9.59 1.41.59.51 0 1.02-.2 1.41-.59l7.78-7.78 2.81-2.81c.8-.78.8-2.07 0-2.86zM5.41 20L4 18.59l7.72-7.72 1.47 1.35L5.41 20z\"/>\n",
              "  </svg>\n",
              "      </button>\n",
              "      \n",
              "  <style>\n",
              "    .colab-df-container {\n",
              "      display:flex;\n",
              "      flex-wrap:wrap;\n",
              "      gap: 12px;\n",
              "    }\n",
              "\n",
              "    .colab-df-convert {\n",
              "      background-color: #E8F0FE;\n",
              "      border: none;\n",
              "      border-radius: 50%;\n",
              "      cursor: pointer;\n",
              "      display: none;\n",
              "      fill: #1967D2;\n",
              "      height: 32px;\n",
              "      padding: 0 0 0 0;\n",
              "      width: 32px;\n",
              "    }\n",
              "\n",
              "    .colab-df-convert:hover {\n",
              "      background-color: #E2EBFA;\n",
              "      box-shadow: 0px 1px 2px rgba(60, 64, 67, 0.3), 0px 1px 3px 1px rgba(60, 64, 67, 0.15);\n",
              "      fill: #174EA6;\n",
              "    }\n",
              "\n",
              "    [theme=dark] .colab-df-convert {\n",
              "      background-color: #3B4455;\n",
              "      fill: #D2E3FC;\n",
              "    }\n",
              "\n",
              "    [theme=dark] .colab-df-convert:hover {\n",
              "      background-color: #434B5C;\n",
              "      box-shadow: 0px 1px 3px 1px rgba(0, 0, 0, 0.15);\n",
              "      filter: drop-shadow(0px 1px 2px rgba(0, 0, 0, 0.3));\n",
              "      fill: #FFFFFF;\n",
              "    }\n",
              "  </style>\n",
              "\n",
              "      <script>\n",
              "        const buttonEl =\n",
              "          document.querySelector('#df-88784042-4b8b-4f4e-b3c0-c86f776e0801 button.colab-df-convert');\n",
              "        buttonEl.style.display =\n",
              "          google.colab.kernel.accessAllowed ? 'block' : 'none';\n",
              "\n",
              "        async function convertToInteractive(key) {\n",
              "          const element = document.querySelector('#df-88784042-4b8b-4f4e-b3c0-c86f776e0801');\n",
              "          const dataTable =\n",
              "            await google.colab.kernel.invokeFunction('convertToInteractive',\n",
              "                                                     [key], {});\n",
              "          if (!dataTable) return;\n",
              "\n",
              "          const docLinkHtml = 'Like what you see? Visit the ' +\n",
              "            '<a target=\"_blank\" href=https://colab.research.google.com/notebooks/data_table.ipynb>data table notebook</a>'\n",
              "            + ' to learn more about interactive tables.';\n",
              "          element.innerHTML = '';\n",
              "          dataTable['output_type'] = 'display_data';\n",
              "          await google.colab.output.renderOutput(dataTable, element);\n",
              "          const docLink = document.createElement('div');\n",
              "          docLink.innerHTML = docLinkHtml;\n",
              "          element.appendChild(docLink);\n",
              "        }\n",
              "      </script>\n",
              "    </div>\n",
              "  </div>\n",
              "  "
            ]
          },
          "metadata": {},
          "execution_count": 10
        }
      ]
    },
    {
      "cell_type": "code",
      "source": [
        "#출고량(Sales) 데이터를 M단위를 기준으로 변환하는 함수 작성\n",
        "def change_sales(x):\n",
        "  if \"M\" in x:\n",
        "    x = float(x.replace(\"M\",''))\n",
        "    return x\n",
        "  elif \"K\" in x:\n",
        "    x = float(x.replace(\"K\",''))\n",
        "    x = x * 0.001\n",
        "    return x\n",
        "  else:\n",
        "    x = float(x)\n",
        "    return x"
      ],
      "metadata": {
        "id": "-UqMUsHC67Bf"
      },
      "execution_count": null,
      "outputs": []
    },
    {
      "cell_type": "code",
      "source": [
        "#단위 변환 후 확인\n",
        "sales_features = [\"NA_Sales\",\"EU_Sales\",\"JP_Sales\",\"Other_Sales\"]\n",
        "for feature in sales_features:\n",
        "  df[feature] = df[feature].apply(change_sales)\n",
        "df.head(3)"
      ],
      "metadata": {
        "colab": {
          "base_uri": "https://localhost:8080/",
          "height": 222
        },
        "id": "n56RLjDp69SV",
        "outputId": "a2578566-180e-4009-aed6-3b07d48eda98"
      },
      "execution_count": null,
      "outputs": [
        {
          "output_type": "execute_result",
          "data": {
            "text/plain": [
              "                                             Name Platform    Year      Genre  \\\n",
              "0                    Candace Kane's Candy Factory       DS  2008.0     Action   \n",
              "1                                  The Munchables      Wii  2009.0     Action   \n",
              "2  Otome wa Oanesama Boku ni Koi Shiteru Portable      PSP  2010.0  Adventure   \n",
              "\n",
              "            Publisher  NA_Sales  EU_Sales  JP_Sales  Other_Sales  \n",
              "0           Destineer      0.04       0.0      0.00         0.00  \n",
              "1  Namco Bandai Games      0.17       0.0      0.00         0.01  \n",
              "2           Alchemist      0.00       0.0      0.02         0.00  "
            ],
            "text/html": [
              "\n",
              "  <div id=\"df-ef5058d6-3318-489a-9504-6187b00328dd\">\n",
              "    <div class=\"colab-df-container\">\n",
              "      <div>\n",
              "<style scoped>\n",
              "    .dataframe tbody tr th:only-of-type {\n",
              "        vertical-align: middle;\n",
              "    }\n",
              "\n",
              "    .dataframe tbody tr th {\n",
              "        vertical-align: top;\n",
              "    }\n",
              "\n",
              "    .dataframe thead th {\n",
              "        text-align: right;\n",
              "    }\n",
              "</style>\n",
              "<table border=\"1\" class=\"dataframe\">\n",
              "  <thead>\n",
              "    <tr style=\"text-align: right;\">\n",
              "      <th></th>\n",
              "      <th>Name</th>\n",
              "      <th>Platform</th>\n",
              "      <th>Year</th>\n",
              "      <th>Genre</th>\n",
              "      <th>Publisher</th>\n",
              "      <th>NA_Sales</th>\n",
              "      <th>EU_Sales</th>\n",
              "      <th>JP_Sales</th>\n",
              "      <th>Other_Sales</th>\n",
              "    </tr>\n",
              "  </thead>\n",
              "  <tbody>\n",
              "    <tr>\n",
              "      <th>0</th>\n",
              "      <td>Candace Kane's Candy Factory</td>\n",
              "      <td>DS</td>\n",
              "      <td>2008.0</td>\n",
              "      <td>Action</td>\n",
              "      <td>Destineer</td>\n",
              "      <td>0.04</td>\n",
              "      <td>0.0</td>\n",
              "      <td>0.00</td>\n",
              "      <td>0.00</td>\n",
              "    </tr>\n",
              "    <tr>\n",
              "      <th>1</th>\n",
              "      <td>The Munchables</td>\n",
              "      <td>Wii</td>\n",
              "      <td>2009.0</td>\n",
              "      <td>Action</td>\n",
              "      <td>Namco Bandai Games</td>\n",
              "      <td>0.17</td>\n",
              "      <td>0.0</td>\n",
              "      <td>0.00</td>\n",
              "      <td>0.01</td>\n",
              "    </tr>\n",
              "    <tr>\n",
              "      <th>2</th>\n",
              "      <td>Otome wa Oanesama Boku ni Koi Shiteru Portable</td>\n",
              "      <td>PSP</td>\n",
              "      <td>2010.0</td>\n",
              "      <td>Adventure</td>\n",
              "      <td>Alchemist</td>\n",
              "      <td>0.00</td>\n",
              "      <td>0.0</td>\n",
              "      <td>0.02</td>\n",
              "      <td>0.00</td>\n",
              "    </tr>\n",
              "  </tbody>\n",
              "</table>\n",
              "</div>\n",
              "      <button class=\"colab-df-convert\" onclick=\"convertToInteractive('df-ef5058d6-3318-489a-9504-6187b00328dd')\"\n",
              "              title=\"Convert this dataframe to an interactive table.\"\n",
              "              style=\"display:none;\">\n",
              "        \n",
              "  <svg xmlns=\"http://www.w3.org/2000/svg\" height=\"24px\"viewBox=\"0 0 24 24\"\n",
              "       width=\"24px\">\n",
              "    <path d=\"M0 0h24v24H0V0z\" fill=\"none\"/>\n",
              "    <path d=\"M18.56 5.44l.94 2.06.94-2.06 2.06-.94-2.06-.94-.94-2.06-.94 2.06-2.06.94zm-11 1L8.5 8.5l.94-2.06 2.06-.94-2.06-.94L8.5 2.5l-.94 2.06-2.06.94zm10 10l.94 2.06.94-2.06 2.06-.94-2.06-.94-.94-2.06-.94 2.06-2.06.94z\"/><path d=\"M17.41 7.96l-1.37-1.37c-.4-.4-.92-.59-1.43-.59-.52 0-1.04.2-1.43.59L10.3 9.45l-7.72 7.72c-.78.78-.78 2.05 0 2.83L4 21.41c.39.39.9.59 1.41.59.51 0 1.02-.2 1.41-.59l7.78-7.78 2.81-2.81c.8-.78.8-2.07 0-2.86zM5.41 20L4 18.59l7.72-7.72 1.47 1.35L5.41 20z\"/>\n",
              "  </svg>\n",
              "      </button>\n",
              "      \n",
              "  <style>\n",
              "    .colab-df-container {\n",
              "      display:flex;\n",
              "      flex-wrap:wrap;\n",
              "      gap: 12px;\n",
              "    }\n",
              "\n",
              "    .colab-df-convert {\n",
              "      background-color: #E8F0FE;\n",
              "      border: none;\n",
              "      border-radius: 50%;\n",
              "      cursor: pointer;\n",
              "      display: none;\n",
              "      fill: #1967D2;\n",
              "      height: 32px;\n",
              "      padding: 0 0 0 0;\n",
              "      width: 32px;\n",
              "    }\n",
              "\n",
              "    .colab-df-convert:hover {\n",
              "      background-color: #E2EBFA;\n",
              "      box-shadow: 0px 1px 2px rgba(60, 64, 67, 0.3), 0px 1px 3px 1px rgba(60, 64, 67, 0.15);\n",
              "      fill: #174EA6;\n",
              "    }\n",
              "\n",
              "    [theme=dark] .colab-df-convert {\n",
              "      background-color: #3B4455;\n",
              "      fill: #D2E3FC;\n",
              "    }\n",
              "\n",
              "    [theme=dark] .colab-df-convert:hover {\n",
              "      background-color: #434B5C;\n",
              "      box-shadow: 0px 1px 3px 1px rgba(0, 0, 0, 0.15);\n",
              "      filter: drop-shadow(0px 1px 2px rgba(0, 0, 0, 0.3));\n",
              "      fill: #FFFFFF;\n",
              "    }\n",
              "  </style>\n",
              "\n",
              "      <script>\n",
              "        const buttonEl =\n",
              "          document.querySelector('#df-ef5058d6-3318-489a-9504-6187b00328dd button.colab-df-convert');\n",
              "        buttonEl.style.display =\n",
              "          google.colab.kernel.accessAllowed ? 'block' : 'none';\n",
              "\n",
              "        async function convertToInteractive(key) {\n",
              "          const element = document.querySelector('#df-ef5058d6-3318-489a-9504-6187b00328dd');\n",
              "          const dataTable =\n",
              "            await google.colab.kernel.invokeFunction('convertToInteractive',\n",
              "                                                     [key], {});\n",
              "          if (!dataTable) return;\n",
              "\n",
              "          const docLinkHtml = 'Like what you see? Visit the ' +\n",
              "            '<a target=\"_blank\" href=https://colab.research.google.com/notebooks/data_table.ipynb>data table notebook</a>'\n",
              "            + ' to learn more about interactive tables.';\n",
              "          element.innerHTML = '';\n",
              "          dataTable['output_type'] = 'display_data';\n",
              "          await google.colab.output.renderOutput(dataTable, element);\n",
              "          const docLink = document.createElement('div');\n",
              "          docLink.innerHTML = docLinkHtml;\n",
              "          element.appendChild(docLink);\n",
              "        }\n",
              "      </script>\n",
              "    </div>\n",
              "  </div>\n",
              "  "
            ]
          },
          "metadata": {},
          "execution_count": 12
        }
      ]
    },
    {
      "cell_type": "code",
      "source": [
        "#Year 컬럼을 확인하니 3, 9, 96과 같은 100보다 작은 값의 형태를 볼 수 있음\n",
        "#80보다 작은 값은 2000을, 80보다 크고 100보다 작은 값을 1900을 더해주어서 값을 맞추어줌\n",
        "\n",
        "def year_change(x):\n",
        "  if 80 <= x <100:\n",
        "    x += 1900\n",
        "    return x\n",
        "  elif x < 80:\n",
        "    x += 2000\n",
        "    return x\n",
        "  else:\n",
        "    return x\n",
        "\n",
        "df['Year'] = df['Year'].astype('int')\n",
        "df['Year'] = df['Year'].apply(year_change)\n",
        "df.head(3)"
      ],
      "metadata": {
        "colab": {
          "base_uri": "https://localhost:8080/",
          "height": 222
        },
        "id": "QKupBGWW69-G",
        "outputId": "aea195de-833f-4e35-bdb2-15d3d316b8ee"
      },
      "execution_count": null,
      "outputs": [
        {
          "output_type": "execute_result",
          "data": {
            "text/plain": [
              "                                             Name Platform  Year      Genre  \\\n",
              "0                    Candace Kane's Candy Factory       DS  2008     Action   \n",
              "1                                  The Munchables      Wii  2009     Action   \n",
              "2  Otome wa Oanesama Boku ni Koi Shiteru Portable      PSP  2010  Adventure   \n",
              "\n",
              "            Publisher  NA_Sales  EU_Sales  JP_Sales  Other_Sales  \n",
              "0           Destineer      0.04       0.0      0.00         0.00  \n",
              "1  Namco Bandai Games      0.17       0.0      0.00         0.01  \n",
              "2           Alchemist      0.00       0.0      0.02         0.00  "
            ],
            "text/html": [
              "\n",
              "  <div id=\"df-8c722351-d70b-4697-9e81-75142055df88\">\n",
              "    <div class=\"colab-df-container\">\n",
              "      <div>\n",
              "<style scoped>\n",
              "    .dataframe tbody tr th:only-of-type {\n",
              "        vertical-align: middle;\n",
              "    }\n",
              "\n",
              "    .dataframe tbody tr th {\n",
              "        vertical-align: top;\n",
              "    }\n",
              "\n",
              "    .dataframe thead th {\n",
              "        text-align: right;\n",
              "    }\n",
              "</style>\n",
              "<table border=\"1\" class=\"dataframe\">\n",
              "  <thead>\n",
              "    <tr style=\"text-align: right;\">\n",
              "      <th></th>\n",
              "      <th>Name</th>\n",
              "      <th>Platform</th>\n",
              "      <th>Year</th>\n",
              "      <th>Genre</th>\n",
              "      <th>Publisher</th>\n",
              "      <th>NA_Sales</th>\n",
              "      <th>EU_Sales</th>\n",
              "      <th>JP_Sales</th>\n",
              "      <th>Other_Sales</th>\n",
              "    </tr>\n",
              "  </thead>\n",
              "  <tbody>\n",
              "    <tr>\n",
              "      <th>0</th>\n",
              "      <td>Candace Kane's Candy Factory</td>\n",
              "      <td>DS</td>\n",
              "      <td>2008</td>\n",
              "      <td>Action</td>\n",
              "      <td>Destineer</td>\n",
              "      <td>0.04</td>\n",
              "      <td>0.0</td>\n",
              "      <td>0.00</td>\n",
              "      <td>0.00</td>\n",
              "    </tr>\n",
              "    <tr>\n",
              "      <th>1</th>\n",
              "      <td>The Munchables</td>\n",
              "      <td>Wii</td>\n",
              "      <td>2009</td>\n",
              "      <td>Action</td>\n",
              "      <td>Namco Bandai Games</td>\n",
              "      <td>0.17</td>\n",
              "      <td>0.0</td>\n",
              "      <td>0.00</td>\n",
              "      <td>0.01</td>\n",
              "    </tr>\n",
              "    <tr>\n",
              "      <th>2</th>\n",
              "      <td>Otome wa Oanesama Boku ni Koi Shiteru Portable</td>\n",
              "      <td>PSP</td>\n",
              "      <td>2010</td>\n",
              "      <td>Adventure</td>\n",
              "      <td>Alchemist</td>\n",
              "      <td>0.00</td>\n",
              "      <td>0.0</td>\n",
              "      <td>0.02</td>\n",
              "      <td>0.00</td>\n",
              "    </tr>\n",
              "  </tbody>\n",
              "</table>\n",
              "</div>\n",
              "      <button class=\"colab-df-convert\" onclick=\"convertToInteractive('df-8c722351-d70b-4697-9e81-75142055df88')\"\n",
              "              title=\"Convert this dataframe to an interactive table.\"\n",
              "              style=\"display:none;\">\n",
              "        \n",
              "  <svg xmlns=\"http://www.w3.org/2000/svg\" height=\"24px\"viewBox=\"0 0 24 24\"\n",
              "       width=\"24px\">\n",
              "    <path d=\"M0 0h24v24H0V0z\" fill=\"none\"/>\n",
              "    <path d=\"M18.56 5.44l.94 2.06.94-2.06 2.06-.94-2.06-.94-.94-2.06-.94 2.06-2.06.94zm-11 1L8.5 8.5l.94-2.06 2.06-.94-2.06-.94L8.5 2.5l-.94 2.06-2.06.94zm10 10l.94 2.06.94-2.06 2.06-.94-2.06-.94-.94-2.06-.94 2.06-2.06.94z\"/><path d=\"M17.41 7.96l-1.37-1.37c-.4-.4-.92-.59-1.43-.59-.52 0-1.04.2-1.43.59L10.3 9.45l-7.72 7.72c-.78.78-.78 2.05 0 2.83L4 21.41c.39.39.9.59 1.41.59.51 0 1.02-.2 1.41-.59l7.78-7.78 2.81-2.81c.8-.78.8-2.07 0-2.86zM5.41 20L4 18.59l7.72-7.72 1.47 1.35L5.41 20z\"/>\n",
              "  </svg>\n",
              "      </button>\n",
              "      \n",
              "  <style>\n",
              "    .colab-df-container {\n",
              "      display:flex;\n",
              "      flex-wrap:wrap;\n",
              "      gap: 12px;\n",
              "    }\n",
              "\n",
              "    .colab-df-convert {\n",
              "      background-color: #E8F0FE;\n",
              "      border: none;\n",
              "      border-radius: 50%;\n",
              "      cursor: pointer;\n",
              "      display: none;\n",
              "      fill: #1967D2;\n",
              "      height: 32px;\n",
              "      padding: 0 0 0 0;\n",
              "      width: 32px;\n",
              "    }\n",
              "\n",
              "    .colab-df-convert:hover {\n",
              "      background-color: #E2EBFA;\n",
              "      box-shadow: 0px 1px 2px rgba(60, 64, 67, 0.3), 0px 1px 3px 1px rgba(60, 64, 67, 0.15);\n",
              "      fill: #174EA6;\n",
              "    }\n",
              "\n",
              "    [theme=dark] .colab-df-convert {\n",
              "      background-color: #3B4455;\n",
              "      fill: #D2E3FC;\n",
              "    }\n",
              "\n",
              "    [theme=dark] .colab-df-convert:hover {\n",
              "      background-color: #434B5C;\n",
              "      box-shadow: 0px 1px 3px 1px rgba(0, 0, 0, 0.15);\n",
              "      filter: drop-shadow(0px 1px 2px rgba(0, 0, 0, 0.3));\n",
              "      fill: #FFFFFF;\n",
              "    }\n",
              "  </style>\n",
              "\n",
              "      <script>\n",
              "        const buttonEl =\n",
              "          document.querySelector('#df-8c722351-d70b-4697-9e81-75142055df88 button.colab-df-convert');\n",
              "        buttonEl.style.display =\n",
              "          google.colab.kernel.accessAllowed ? 'block' : 'none';\n",
              "\n",
              "        async function convertToInteractive(key) {\n",
              "          const element = document.querySelector('#df-8c722351-d70b-4697-9e81-75142055df88');\n",
              "          const dataTable =\n",
              "            await google.colab.kernel.invokeFunction('convertToInteractive',\n",
              "                                                     [key], {});\n",
              "          if (!dataTable) return;\n",
              "\n",
              "          const docLinkHtml = 'Like what you see? Visit the ' +\n",
              "            '<a target=\"_blank\" href=https://colab.research.google.com/notebooks/data_table.ipynb>data table notebook</a>'\n",
              "            + ' to learn more about interactive tables.';\n",
              "          element.innerHTML = '';\n",
              "          dataTable['output_type'] = 'display_data';\n",
              "          await google.colab.output.renderOutput(dataTable, element);\n",
              "          const docLink = document.createElement('div');\n",
              "          docLink.innerHTML = docLinkHtml;\n",
              "          element.appendChild(docLink);\n",
              "        }\n",
              "      </script>\n",
              "    </div>\n",
              "  </div>\n",
              "  "
            ]
          },
          "metadata": {},
          "execution_count": 13
        }
      ]
    },
    {
      "cell_type": "code",
      "source": [
        "#Sales 칼럼을 모두 더한 피처 생성\n",
        "df['ALL_Sales'] = df[sales_features].sum(axis=1)"
      ],
      "metadata": {
        "id": "qslTKrhy7BOH"
      },
      "execution_count": null,
      "outputs": []
    },
    {
      "cell_type": "markdown",
      "source": [
        "#EDA"
      ],
      "metadata": {
        "id": "7OPk70G-7K9Q"
      }
    },
    {
      "cell_type": "markdown",
      "source": [
        "## 일본과 일본 외 지역(북미, 유럽, 기타)으로 나누는 이유\n"
      ],
      "metadata": {
        "id": "8EuafmWwunSm"
      }
    },
    {
      "cell_type": "code",
      "source": [
        "#전체 판매(출고)량의 크기\n",
        "sns.set_palette('rainbow')\n",
        "sales = pd.DataFrame(df[[\"NA_Sales\",\"EU_Sales\",\"JP_Sales\",\"Other_Sales\"]].sum(), columns=['Sales'])\n",
        "plt.figure(figsize=(10,10))\n",
        "sns.barplot(data=sales, ci= None, y=\"Sales\", x=sales.index)\n",
        "plt.xticks(ticks=[0,1,2,3],labels=[\"North America\", \"Europe\", \"Japan\", \"Other\"], fontsize=13)\n",
        "plt.show()"
      ],
      "metadata": {
        "colab": {
          "base_uri": "https://localhost:8080/",
          "height": 595
        },
        "id": "nRMqN0k_7LpD",
        "outputId": "be3e29ae-ed30-484a-ef98-9a75958de7cb"
      },
      "execution_count": null,
      "outputs": [
        {
          "output_type": "display_data",
          "data": {
            "text/plain": [
              "<Figure size 720x720 with 1 Axes>"
            ],
            "image/png": "[encoded data removed]"
          },
          "metadata": {
            "needs_background": "light"
          }
        }
      ]
    },
    {
      "cell_type": "markdown",
      "source": [
        "지역별 판매 출고량입니다."
      ],
      "metadata": {
        "id": "c0Prl-K3GR77"
      }
    },
    {
      "cell_type": "code",
      "source": [
        "#연도별 전체 판매량\n",
        "year_all_sales = pd.DataFrame(df.groupby('Year')[\"ALL_Sales\"].sum())\n",
        "plt.figure(figsize=(24,10))\n",
        "sns.barplot(data=year_all_sales, x=year_all_sales.index, y='ALL_Sales', ci=None)\n",
        "plt.xticks(fontsize=11)\n",
        "plt.show()"
      ],
      "metadata": {
        "colab": {
          "base_uri": "https://localhost:8080/",
          "height": 393
        },
        "id": "ekZRBdv07aSm",
        "outputId": "92ffa4ad-b72f-44a8-a640-5d0ab1d4526f"
      },
      "execution_count": null,
      "outputs": [
        {
          "output_type": "display_data",
          "data": {
            "text/plain": [
              "<Figure size 1728x720 with 1 Axes>"
            ],
            "image/png": "[encoded data removed]"
          },
          "metadata": {
            "needs_background": "light"
          }
        }
      ]
    },
    {
      "cell_type": "markdown",
      "source": [
        "연도별 전체 지역 판매 출고량 입니다."
      ],
      "metadata": {
        "id": "iTZvu_RxGbs4"
      }
    },
    {
      "cell_type": "code",
      "source": [
        "#연도별 지역 판매량\n",
        "sales_features = [\"NA_Sales\",\"EU_Sales\",\"JP_Sales\",\"Other_Sales\"]\n",
        "\n",
        "f, ax = plt.subplots(2,2,figsize=(30, 12), constrained_layout=True)\n",
        "sales_name = {\"NA_Sales\" : (\"North America\",ax[0][0]),\n",
        "              \"EU_Sales\" : (\"Europe\",ax[0][1]),\n",
        "              \"JP_Sales\" : (\"Japan\", ax[1][0]),\n",
        "              \"Other_Sales\" : (\"Other\",ax[1][1])}\n",
        "\n",
        "for feature in sales_features:\n",
        "  year_games = pd.DataFrame(df.groupby(\"Year\")[feature].sum())\n",
        "  sns.barplot(data=year_games, x=year_games.index, y=feature, ax=sales_name[feature][1])\n",
        "  sales_name[feature][1].set_title(sales_name[feature][0], fontsize=15)\n",
        "  sales_name[feature][1].set_ylim(0, 400)\n",
        "plt.show()"
      ],
      "metadata": {
        "colab": {
          "base_uri": "https://localhost:8080/",
          "height": 375
        },
        "id": "7_N3OR1C8dVN",
        "outputId": "7cbb7dcd-4bba-4b55-a1c0-ad2ab1b4fabf"
      },
      "execution_count": null,
      "outputs": [
        {
          "output_type": "display_data",
          "data": {
            "text/plain": [
              "<Figure size 2160x864 with 4 Axes>"
            ],
            "image/png": "[encoded data removed]"
          },
          "metadata": {
            "needs_background": "light"
          }
        }
      ]
    },
    {
      "cell_type": "markdown",
      "source": [
        "북미,유럽,기타 지역과 일본의 판매량의 모습이 다른것을 확인할 수 있습니다."
      ],
      "metadata": {
        "id": "_H9_OwHWhXVA"
      }
    },
    {
      "cell_type": "code",
      "source": [
        "sales_corr = df[[\"NA_Sales\",\"EU_Sales\",\"JP_Sales\",\"Other_Sales\"]].corr()\n",
        "plt.figure(figsize=(12,12))\n",
        "sns.heatmap(sales_corr, annot=True, square=True,cmap=\"OrRd_r\")\n",
        "plt.show()"
      ],
      "metadata": {
        "id": "OPnk1FWw-Vzt",
        "colab": {
          "base_uri": "https://localhost:8080/",
          "height": 687
        },
        "outputId": "8669ce73-9177-472a-dd54-5e23b2a02786"
      },
      "execution_count": null,
      "outputs": [
        {
          "output_type": "display_data",
          "data": {
            "text/plain": [
              "<Figure size 864x864 with 2 Axes>"
            ],
            "image/png": "[encoded data removed]"
          },
          "metadata": {
            "needs_background": "light"
          }
        }
      ]
    },
    {
      "cell_type": "markdown",
      "source": [
        "상관관계는 두변수 간의 관계를 알아볼 수 있으며, 값이 -1~1의 값을 가집니다.  \n",
        "음수라면 음의 상관관계, 양수라면 양의 상관관계, 0이라면 상관이 매우 약하다라고 해석할 수 있습니다.\n"
      ],
      "metadata": {
        "id": "s1BvBa9jhsuG"
      }
    },
    {
      "cell_type": "markdown",
      "source": [
        "출고량들간의 상관관계를 확인한 결과 북미,유럽,기타 지역과의 상관관계에 비하여   \n",
        "일본 과의 상관관계가 상대적으로 작기 때문에 일본과 일본외지역으로 나누게 되누게 되었습니다."
      ],
      "metadata": {
        "id": "S1RP21j2hn9-"
      }
    },
    {
      "cell_type": "markdown",
      "source": [
        "앞으로 진행할 분석결과도 일본과 일본외의 지역이 다른 모습을 보이기 때문에 나누는 이유가 되었습니다."
      ],
      "metadata": {
        "id": "DtinMeJwiyME"
      }
    },
    {
      "cell_type": "markdown",
      "source": [
        "## 지역에 따라 선호하는 게임의 장르를 확인"
      ],
      "metadata": {
        "id": "i7ZNKYsevWRl"
      }
    },
    {
      "cell_type": "markdown",
      "source": [
        "지역 전체의 장르별 출고량을 확인하겠습니다"
      ],
      "metadata": {
        "id": "N055T0urwJpc"
      }
    },
    {
      "cell_type": "code",
      "source": [
        "#어떤 장르가 가장 많이 판매되었는가\n",
        "genre_all_sales = pd.DataFrame(df.groupby(\"Genre\")['ALL_Sales'].sum().sort_values(ascending=False))\n",
        "plt.figure(figsize=(20,8))\n",
        "ax = sns.barplot(data=genre_all_sales, x=genre_all_sales.index, y='ALL_Sales', ci=None)\n",
        "plt.title(\"Sales Genre\")\n",
        "\n",
        "plt.show()"
      ],
      "metadata": {
        "colab": {
          "base_uri": "https://localhost:8080/",
          "height": 393
        },
        "id": "3ke6ozhvt7R4",
        "outputId": "2d3c9537-8858-4e7f-f04c-225823c0ceb7"
      },
      "execution_count": null,
      "outputs": [
        {
          "output_type": "display_data",
          "data": {
            "text/plain": [
              "<Figure size 1440x576 with 1 Axes>"
            ],
            "image/png": "[encoded data removed]"
          },
          "metadata": {
            "needs_background": "light"
          }
        }
      ]
    },
    {
      "cell_type": "markdown",
      "source": [
        "전체 지역에서는 Action, Sports, Shooter 순으로 게임이 많이 출고되었습니다."
      ],
      "metadata": {
        "id": "81Y8kyq9wQLw"
      }
    },
    {
      "cell_type": "markdown",
      "source": [
        "다음은 지역별로 어떤 장르가 많이 출고되었는지 확인해보겠습니다."
      ],
      "metadata": {
        "id": "JBPw1H0gwTDX"
      }
    },
    {
      "cell_type": "code",
      "source": [
        "#어떤 장르가 지역마다 가장 많이 판매되었는가\n",
        "sales_features = [\"NA_Sales\",\"EU_Sales\",\"JP_Sales\",\"Other_Sales\"]\n",
        "\n",
        "f, ax = plt.subplots(2,2,figsize=(30, 12))\n",
        "sales_name = {\"NA_Sales\" : (\"North America\",ax[0][0]),\n",
        "              \"EU_Sales\" : (\"Europe\",ax[0][1]),\n",
        "              \"JP_Sales\" : (\"Japan\", ax[1][0]),\n",
        "              \"Other_Sales\" : (\"Other\",ax[1][1])}\n",
        "\n",
        "for feature in sales_features:  \n",
        "  genre_sales = pd.DataFrame(df.groupby(\"Genre\")[feature].sum().sort_values(ascending=False))\n",
        "  sns.barplot(data = genre_sales, x=genre_sales.index, y=feature, ci=None, ax=sales_name[feature][1])\n",
        "  sales_name[feature][1].set_title(sales_name[feature][0], fontsize=15)\n",
        "  sales_name[feature][1].set_ylim(0, 900)\n",
        "plt.show()"
      ],
      "metadata": {
        "colab": {
          "base_uri": "https://localhost:8080/",
          "height": 385
        },
        "id": "-GclIfy6wOGM",
        "outputId": "8bf7bd02-ad8a-402d-ea7c-7e017d48b9cb"
      },
      "execution_count": null,
      "outputs": [
        {
          "output_type": "display_data",
          "data": {
            "text/plain": [
              "<Figure size 2160x864 with 4 Axes>"
            ],
            "image/png": "[encoded data removed]"
          },
          "metadata": {
            "needs_background": "light"
          }
        }
      ]
    },
    {
      "cell_type": "markdown",
      "source": [
        "일본과 다른지역을 보았을 때 순위는 다르지만 Action, Sports, Shooter 게임장르가 출고량이 높은 것을 확인할 수 있고,  \n",
        "일본의 경우 다른지역과 다르게 Role-Playing 장르의 출고량이 가장 높습니다."
      ],
      "metadata": {
        "id": "14BP7jLGwjMz"
      }
    },
    {
      "cell_type": "markdown",
      "source": [
        "## 지역에 따라 선호하는 게임 플랫폼을 확인"
      ],
      "metadata": {
        "id": "V49w-X37w2py"
      }
    },
    {
      "cell_type": "markdown",
      "source": [
        "플랫폼의 수가 31개로 모든 플랫폼을 확인할 수 없기 때문에 상위 10개의 플랫폼만 뽑아서 확인해보도록 하겠습니다."
      ],
      "metadata": {
        "id": "7NyZVdGjw7gh"
      }
    },
    {
      "cell_type": "code",
      "source": [
        "print(\"Platform의 수 : \", df['Platform'].nunique())"
      ],
      "metadata": {
        "colab": {
          "base_uri": "https://localhost:8080/"
        },
        "id": "NmptXxjkwZaT",
        "outputId": "1055b806-c840-4e47-9c93-478c74dad0bd"
      },
      "execution_count": null,
      "outputs": [
        {
          "output_type": "stream",
          "name": "stdout",
          "text": [
            "Platform의 수 :  31\n"
          ]
        }
      ]
    },
    {
      "cell_type": "markdown",
      "source": [
        "전체 지역을 확인해보도록 하겠습니다."
      ],
      "metadata": {
        "id": "EdyUe5H2xd9L"
      }
    },
    {
      "cell_type": "code",
      "source": [
        "#전체 지역의 플랫폼 출고량\n",
        "platform_all_sales = pd.DataFrame(df.groupby(\"Platform\")['ALL_Sales'].sum().sort_values(ascending=False))[:10]\n",
        "plt.figure(figsize=(16,8))\n",
        "sns.barplot(data=platform_all_sales, x=platform_all_sales.index, y='ALL_Sales',ci=None)\n",
        "plt.title(\"Sales Platform\")\n",
        "plt.show()"
      ],
      "metadata": {
        "colab": {
          "base_uri": "https://localhost:8080/",
          "height": 480
        },
        "id": "q2c-nzT2xclo",
        "outputId": "6a1401a8-0172-4a89-f572-27b99e76ba74"
      },
      "execution_count": null,
      "outputs": [
        {
          "output_type": "display_data",
          "data": {
            "text/plain": [
              "<Figure size 1152x576 with 1 Axes>"
            ],
            "image/png": "[encoded data removed]"
          },
          "metadata": {
            "needs_background": "light"
          }
        }
      ]
    },
    {
      "cell_type": "markdown",
      "source": [
        "전체 지역으로 보았을 때 PS2, X360, PS3 플랫폼 순으로 게임을 이용하였습니다."
      ],
      "metadata": {
        "id": "xZIStkpPx5in"
      }
    },
    {
      "cell_type": "markdown",
      "source": [
        "다음은 지역별로 어떤 플랫폼을 가장 많이 이용했는지 확인하겠습니다."
      ],
      "metadata": {
        "id": "vVztDEtoya5l"
      }
    },
    {
      "cell_type": "code",
      "source": [
        "#지역별로 어떤 플랫폼이 가장 많이 판매되었는가\n",
        "sales_features = [\"NA_Sales\",\"EU_Sales\",\"JP_Sales\",\"Other_Sales\"]\n",
        "\n",
        "f, ax = plt.subplots(2,2,figsize=(30, 12))\n",
        "sales_name = {\"NA_Sales\" : (\"North America\",ax[0][0]),\n",
        "              \"EU_Sales\" : (\"Europe\",ax[0][1]),\n",
        "              \"JP_Sales\" : (\"Japan\", ax[1][0]),\n",
        "              \"Other_Sales\" : (\"Other\",ax[1][1])}\n",
        "\n",
        "for feature in sales_features:\n",
        "  platform_sales = pd.DataFrame(df.groupby(\"Platform\")[feature].sum().sort_values(ascending=False))[:10]\n",
        "  sales_name[feature][1].set_title(sales_name[feature][0], fontsize=15)\n",
        "  sns.barplot(data = platform_sales, x=platform_sales.index, y=feature, ci=None, ax=sales_name[feature][1])\n",
        "  sales_name[feature][1].set_ylim(0, 700)\n",
        "plt.show()"
      ],
      "metadata": {
        "colab": {
          "base_uri": "https://localhost:8080/",
          "height": 385
        },
        "id": "LnKxlWn9xug6",
        "outputId": "a05fb046-fdb8-478b-c2cf-8bee2bd8926a"
      },
      "execution_count": null,
      "outputs": [
        {
          "output_type": "display_data",
          "data": {
            "text/plain": [
              "<Figure size 2160x864 with 4 Axes>"
            ],
            "image/png": "[encoded data removed]"
          },
          "metadata": {
            "needs_background": "light"
          }
        }
      ]
    },
    {
      "cell_type": "markdown",
      "source": [
        "순위는 각자 다르지만 북미, 유럽, 기타의 경우에는 X360, PS2, Wii, PS3를 많이 이용하였고,  \n",
        "일본의 경우는 DS의 플랫폼이 가장 많고, PS, PS2 순으로 많이 이용하였습니다."
      ],
      "metadata": {
        "id": "bJ14C6bkyjIz"
      }
    },
    {
      "cell_type": "markdown",
      "source": [
        "## 지역에 따라 선호하는 게임회사를 확인"
      ],
      "metadata": {
        "id": "NYxSpf2Yyyom"
      }
    },
    {
      "cell_type": "markdown",
      "source": [
        "회사의 수가 500개 이상으로 많기 때문에 플랫폼과 동일하게 상위 10개만 확인해보겠습니다."
      ],
      "metadata": {
        "id": "qhmZF6tjy8wI"
      }
    },
    {
      "cell_type": "code",
      "source": [
        "print(\"회사의 수 : \", df['Publisher'].nunique())"
      ],
      "metadata": {
        "colab": {
          "base_uri": "https://localhost:8080/"
        },
        "id": "lO390GUByaHk",
        "outputId": "b3576d14-9258-429f-e665-52bd6a23f4b5"
      },
      "execution_count": null,
      "outputs": [
        {
          "output_type": "stream",
          "name": "stdout",
          "text": [
            "회사의 수 :  575\n"
          ]
        }
      ]
    },
    {
      "cell_type": "markdown",
      "source": [
        "먼저 어떤 회사의 게임이 가장 많이 출고되었는가 확인하겠습니다."
      ],
      "metadata": {
        "id": "naI9vtO4zLXy"
      }
    },
    {
      "cell_type": "code",
      "source": [
        "#어떤 회사의 게임이 가장 많이 출고되었는가\n",
        "publisher_all_sales = pd.DataFrame(df.groupby(\"Publisher\")['ALL_Sales'].sum().sort_values(ascending=False))[:10]\n",
        "plt.figure(figsize=(20,8))\n",
        "sns.barplot(data=publisher_all_sales, x=publisher_all_sales.index, y='ALL_Sales',ci=None)\n",
        "plt.show()"
      ],
      "metadata": {
        "colab": {
          "base_uri": "https://localhost:8080/",
          "height": 381
        },
        "id": "hnKEd2gBzJYN",
        "outputId": "41e27f61-dfe6-46e5-ca1c-dfa021cc85f8"
      },
      "execution_count": null,
      "outputs": [
        {
          "output_type": "display_data",
          "data": {
            "text/plain": [
              "<Figure size 1440x576 with 1 Axes>"
            ],
            "image/png": "[encoded data removed]"
          },
          "metadata": {
            "needs_background": "light"
          }
        }
      ]
    },
    {
      "cell_type": "markdown",
      "source": [
        "전체 지역의 경우 Nintendo, Electronic Arts, Activision 순으로 게임이 많이 출고되었습니다."
      ],
      "metadata": {
        "id": "d3HdFd1GzSKx"
      }
    },
    {
      "cell_type": "markdown",
      "source": [
        "지역별로 어떤 회사의 게임이 많이 출고되었는지 확인하겠습니다."
      ],
      "metadata": {
        "id": "oMWojhoKzWiu"
      }
    },
    {
      "cell_type": "code",
      "source": [
        "#지역별로 어떤 회사의 게임이 가장 많이 판매 되었는가\n",
        "sales_features = [\"NA_Sales\",\"EU_Sales\",\"JP_Sales\",\"Other_Sales\"]\n",
        "\n",
        "f, ax = plt.subplots(2,2,figsize=(25, 12), constrained_layout=True)\n",
        "sales_name = {\"NA_Sales\" : (\"North America\",ax[0][0]),\n",
        "              \"EU_Sales\" : (\"Europe\",ax[0][1]),\n",
        "              \"JP_Sales\" : (\"Japan\", ax[1][0]),\n",
        "              \"Other_Sales\" : (\"Other\",ax[1][1])}\n",
        "\n",
        "for feature in sales_features:\n",
        "  publisher_sales = pd.DataFrame(df.groupby(\"Publisher\")[feature].sum().sort_values(ascending=False))[:10]\n",
        "  sns.barplot(data = publisher_sales, x=publisher_sales.index, y=feature, ci=None, ax=sales_name[feature][1])\n",
        "  sales_name[feature][1].set_title(sales_name[feature][0], fontsize=15)\n",
        "  sales_name[feature][1].set_xticklabels(publisher_sales.index, rotation=30, ha='center')\n",
        "  sales_name[feature][1].set_ylim(0,900)\n",
        "plt.show()"
      ],
      "metadata": {
        "colab": {
          "base_uri": "https://localhost:8080/",
          "height": 447
        },
        "id": "bmZBrap5zaYA",
        "outputId": "8eb9a21f-4226-4b26-b790-272808fab60e"
      },
      "execution_count": null,
      "outputs": [
        {
          "output_type": "display_data",
          "data": {
            "text/plain": [
              "<Figure size 1800x864 with 4 Axes>"
            ],
            "image/png": "[encoded data removed]"
          },
          "metadata": {
            "needs_background": "light"
          }
        }
      ]
    },
    {
      "cell_type": "markdown",
      "source": [
        "북미,유럽,기타 지역의 경우 순위는 다르지만 Nintendo, Electronic Arts, Activision 회사가 많이 출고되었고,  \n",
        "일본의 경우 역시 Nintendo가 가장 많이 출고되었지만, 그 다음은 다른 지역과 차이가 나는 모습을 볼 수 있습니다."
      ],
      "metadata": {
        "id": "Fg44wqwbzeH6"
      }
    },
    {
      "cell_type": "markdown",
      "source": [
        "## 출고량이 높은 게임을 확인"
      ],
      "metadata": {
        "id": "ezrVUt1708TK"
      }
    },
    {
      "cell_type": "markdown",
      "source": [
        "출시된 게임의 수가 10000개 이상으로 많기 때문에 출고량 기준으로 상위 10개의 게임만 확인해보도록 하겠습니다."
      ],
      "metadata": {
        "id": "M2MksaKr0_4T"
      }
    },
    {
      "cell_type": "code",
      "source": [
        "print(\"출시된 게임의 수 : \", df['Name'].nunique())"
      ],
      "metadata": {
        "colab": {
          "base_uri": "https://localhost:8080/"
        },
        "id": "Pu4vyx9k03wU",
        "outputId": "60760ffa-8234-42d0-816c-105ac65a6513"
      },
      "execution_count": null,
      "outputs": [
        {
          "output_type": "stream",
          "name": "stdout",
          "text": [
            "출시된 게임의 수 :  11295\n"
          ]
        }
      ]
    },
    {
      "cell_type": "markdown",
      "source": [
        "전체 지역으로 보았을 때 가장 많이 출고된 게임을 확인하겠습니다."
      ],
      "metadata": {
        "id": "K_uFSHj61QUJ"
      }
    },
    {
      "cell_type": "code",
      "source": [
        "#가장 많이 판매된 게임 top 10\n",
        "top10_game = pd.DataFrame(df.groupby(\"Name\")['ALL_Sales'].sum().sort_values(ascending=False)[:10])\n",
        "plt.figure(figsize=(28, 8))\n",
        "sns.barplot(data=top10_game, x=top10_game.index, y='ALL_Sales')\n",
        "plt.show()"
      ],
      "metadata": {
        "colab": {
          "base_uri": "https://localhost:8080/",
          "height": 283
        },
        "id": "V-TxvuUi1MW8",
        "outputId": "37bb4d1e-2f28-40a7-e3d7-c42f8963fea4"
      },
      "execution_count": null,
      "outputs": [
        {
          "output_type": "display_data",
          "data": {
            "text/plain": [
              "<Figure size 2016x576 with 1 Axes>"
            ],
            "image/png": "[encoded data removed]"
          },
          "metadata": {
            "needs_background": "light"
          }
        }
      ]
    },
    {
      "cell_type": "markdown",
      "source": [
        "전체 지역으로 보았을 때 Wii Sports, Grand Theft Auto V, Super Mario Bros 게임 순으로 많이 출고되었습니다."
      ],
      "metadata": {
        "id": "EoCKE4QJ1YJz"
      }
    },
    {
      "cell_type": "markdown",
      "source": [
        "지역별로 많이 출고된 게임을 확인하겠습니다."
      ],
      "metadata": {
        "id": "HKcdeM4j1ern"
      }
    },
    {
      "cell_type": "code",
      "source": [
        "#지역별 Top10 게임\n",
        "sales_features = [\"NA_Sales\",\"EU_Sales\",\"JP_Sales\",\"Other_Sales\"]\n",
        "\n",
        "f, ax = plt.subplots(2,2,figsize=(25, 12), constrained_layout=True)\n",
        "sales_name = {\"NA_Sales\" : (\"North America\",ax[0][0]),\n",
        "              \"EU_Sales\" : (\"Europe\",ax[0][1]),\n",
        "              \"JP_Sales\" : (\"Japan\", ax[1][0]),\n",
        "              \"Other_Sales\" : (\"Other\",ax[1][1])}\n",
        "\n",
        "for feature in sales_features:\n",
        "  top10_games = pd.DataFrame(df.groupby(\"Name\")[feature].sum().sort_values(ascending=False)[:10])\n",
        "  sns.barplot(data=top10_games, x=top10_games.index, y=feature, ax=sales_name[feature][1])\n",
        "  sales_name[feature][1].set_title(sales_name[feature][0], fontsize=15)\n",
        "  sales_name[feature][1].set_xticklabels(top10_games.index, rotation=30)\n",
        "  sales_name[feature][1].set_ylim(0, 45)\n",
        "plt.show()"
      ],
      "metadata": {
        "colab": {
          "base_uri": "https://localhost:8080/",
          "height": 447
        },
        "id": "-8mcbUdO1Xc1",
        "outputId": "b507925a-4ff8-4b0b-f429-da0e035f37fc"
      },
      "execution_count": null,
      "outputs": [
        {
          "output_type": "display_data",
          "data": {
            "text/plain": [
              "<Figure size 1800x864 with 4 Axes>"
            ],
            "image/png": "[encoded data removed]"
          },
          "metadata": {
            "needs_background": "light"
          }
        }
      ]
    },
    {
      "cell_type": "markdown",
      "source": [
        "지역마다 다른 결과가 나왔지만, 위에서 보았던 전체지역을 기준으로 출고량 상위 10개의 게임을 확인했을때의 결과인 wii sports, Grand Theft Auto 5 게임이 지역마다 상위권에 위치한 것을 볼 수 있습니다.  \n",
        "일본의 경우는 Pokemon 게임의 시리즈가 많이 출고된 것을 확인할 수 있습니다."
      ],
      "metadata": {
        "id": "R9IheYYl2NjC"
      }
    },
    {
      "cell_type": "markdown",
      "source": [
        "### Wii Sports 정보"
      ],
      "metadata": {
        "id": "N-nrNZyC_yh3"
      }
    },
    {
      "cell_type": "code",
      "source": [
        "df.loc[df[\"Name\"].str.contains(\"Wii Sports\")].sort_values(by=\"ALL_Sales\", ascending=False)[:10]"
      ],
      "metadata": {
        "colab": {
          "base_uri": "https://localhost:8080/",
          "height": 143
        },
        "id": "g6NAH_kD1jBh",
        "outputId": "45c67e8c-4ac9-4d67-c6bd-78240ad61193"
      },
      "execution_count": null,
      "outputs": [
        {
          "output_type": "execute_result",
          "data": {
            "text/plain": [
              "                   Name Platform  Year   Genre Publisher  NA_Sales  EU_Sales  \\\n",
              "2855         Wii Sports      Wii  2006  Sports  Nintendo     41.49     29.02   \n",
              "3288  Wii Sports Resort      Wii  2009  Sports  Nintendo     15.75     11.01   \n",
              "2249    Wii Sports Club     WiiU  2014  Sports  Nintendo      0.19      0.14   \n",
              "\n",
              "      JP_Sales  Other_Sales  ALL_Sales  \n",
              "2855      3.77         8.46      82.74  \n",
              "3288      3.28         2.96      33.00  \n",
              "2249      0.04         0.03       0.40  "
            ],
            "text/html": [
              "\n",
              "  <div id=\"df-4ec8ea24-4eb8-4fa7-a99c-c172b7d35e9e\">\n",
              "    <div class=\"colab-df-container\">\n",
              "      <div>\n",
              "<style scoped>\n",
              "    .dataframe tbody tr th:only-of-type {\n",
              "        vertical-align: middle;\n",
              "    }\n",
              "\n",
              "    .dataframe tbody tr th {\n",
              "        vertical-align: top;\n",
              "    }\n",
              "\n",
              "    .dataframe thead th {\n",
              "        text-align: right;\n",
              "    }\n",
              "</style>\n",
              "<table border=\"1\" class=\"dataframe\">\n",
              "  <thead>\n",
              "    <tr style=\"text-align: right;\">\n",
              "      <th></th>\n",
              "      <th>Name</th>\n",
              "      <th>Platform</th>\n",
              "      <th>Year</th>\n",
              "      <th>Genre</th>\n",
              "      <th>Publisher</th>\n",
              "      <th>NA_Sales</th>\n",
              "      <th>EU_Sales</th>\n",
              "      <th>JP_Sales</th>\n",
              "      <th>Other_Sales</th>\n",
              "      <th>ALL_Sales</th>\n",
              "    </tr>\n",
              "  </thead>\n",
              "  <tbody>\n",
              "    <tr>\n",
              "      <th>2855</th>\n",
              "      <td>Wii Sports</td>\n",
              "      <td>Wii</td>\n",
              "      <td>2006</td>\n",
              "      <td>Sports</td>\n",
              "      <td>Nintendo</td>\n",
              "      <td>41.49</td>\n",
              "      <td>29.02</td>\n",
              "      <td>3.77</td>\n",
              "      <td>8.46</td>\n",
              "      <td>82.74</td>\n",
              "    </tr>\n",
              "    <tr>\n",
              "      <th>3288</th>\n",
              "      <td>Wii Sports Resort</td>\n",
              "      <td>Wii</td>\n",
              "      <td>2009</td>\n",
              "      <td>Sports</td>\n",
              "      <td>Nintendo</td>\n",
              "      <td>15.75</td>\n",
              "      <td>11.01</td>\n",
              "      <td>3.28</td>\n",
              "      <td>2.96</td>\n",
              "      <td>33.00</td>\n",
              "    </tr>\n",
              "    <tr>\n",
              "      <th>2249</th>\n",
              "      <td>Wii Sports Club</td>\n",
              "      <td>WiiU</td>\n",
              "      <td>2014</td>\n",
              "      <td>Sports</td>\n",
              "      <td>Nintendo</td>\n",
              "      <td>0.19</td>\n",
              "      <td>0.14</td>\n",
              "      <td>0.04</td>\n",
              "      <td>0.03</td>\n",
              "      <td>0.40</td>\n",
              "    </tr>\n",
              "  </tbody>\n",
              "</table>\n",
              "</div>\n",
              "      <button class=\"colab-df-convert\" onclick=\"convertToInteractive('df-4ec8ea24-4eb8-4fa7-a99c-c172b7d35e9e')\"\n",
              "              title=\"Convert this dataframe to an interactive table.\"\n",
              "              style=\"display:none;\">\n",
              "        \n",
              "  <svg xmlns=\"http://www.w3.org/2000/svg\" height=\"24px\"viewBox=\"0 0 24 24\"\n",
              "       width=\"24px\">\n",
              "    <path d=\"M0 0h24v24H0V0z\" fill=\"none\"/>\n",
              "    <path d=\"M18.56 5.44l.94 2.06.94-2.06 2.06-.94-2.06-.94-.94-2.06-.94 2.06-2.06.94zm-11 1L8.5 8.5l.94-2.06 2.06-.94-2.06-.94L8.5 2.5l-.94 2.06-2.06.94zm10 10l.94 2.06.94-2.06 2.06-.94-2.06-.94-.94-2.06-.94 2.06-2.06.94z\"/><path d=\"M17.41 7.96l-1.37-1.37c-.4-.4-.92-.59-1.43-.59-.52 0-1.04.2-1.43.59L10.3 9.45l-7.72 7.72c-.78.78-.78 2.05 0 2.83L4 21.41c.39.39.9.59 1.41.59.51 0 1.02-.2 1.41-.59l7.78-7.78 2.81-2.81c.8-.78.8-2.07 0-2.86zM5.41 20L4 18.59l7.72-7.72 1.47 1.35L5.41 20z\"/>\n",
              "  </svg>\n",
              "      </button>\n",
              "      \n",
              "  <style>\n",
              "    .colab-df-container {\n",
              "      display:flex;\n",
              "      flex-wrap:wrap;\n",
              "      gap: 12px;\n",
              "    }\n",
              "\n",
              "    .colab-df-convert {\n",
              "      background-color: #E8F0FE;\n",
              "      border: none;\n",
              "      border-radius: 50%;\n",
              "      cursor: pointer;\n",
              "      display: none;\n",
              "      fill: #1967D2;\n",
              "      height: 32px;\n",
              "      padding: 0 0 0 0;\n",
              "      width: 32px;\n",
              "    }\n",
              "\n",
              "    .colab-df-convert:hover {\n",
              "      background-color: #E2EBFA;\n",
              "      box-shadow: 0px 1px 2px rgba(60, 64, 67, 0.3), 0px 1px 3px 1px rgba(60, 64, 67, 0.15);\n",
              "      fill: #174EA6;\n",
              "    }\n",
              "\n",
              "    [theme=dark] .colab-df-convert {\n",
              "      background-color: #3B4455;\n",
              "      fill: #D2E3FC;\n",
              "    }\n",
              "\n",
              "    [theme=dark] .colab-df-convert:hover {\n",
              "      background-color: #434B5C;\n",
              "      box-shadow: 0px 1px 3px 1px rgba(0, 0, 0, 0.15);\n",
              "      filter: drop-shadow(0px 1px 2px rgba(0, 0, 0, 0.3));\n",
              "      fill: #FFFFFF;\n",
              "    }\n",
              "  </style>\n",
              "\n",
              "      <script>\n",
              "        const buttonEl =\n",
              "          document.querySelector('#df-4ec8ea24-4eb8-4fa7-a99c-c172b7d35e9e button.colab-df-convert');\n",
              "        buttonEl.style.display =\n",
              "          google.colab.kernel.accessAllowed ? 'block' : 'none';\n",
              "\n",
              "        async function convertToInteractive(key) {\n",
              "          const element = document.querySelector('#df-4ec8ea24-4eb8-4fa7-a99c-c172b7d35e9e');\n",
              "          const dataTable =\n",
              "            await google.colab.kernel.invokeFunction('convertToInteractive',\n",
              "                                                     [key], {});\n",
              "          if (!dataTable) return;\n",
              "\n",
              "          const docLinkHtml = 'Like what you see? Visit the ' +\n",
              "            '<a target=\"_blank\" href=https://colab.research.google.com/notebooks/data_table.ipynb>data table notebook</a>'\n",
              "            + ' to learn more about interactive tables.';\n",
              "          element.innerHTML = '';\n",
              "          dataTable['output_type'] = 'display_data';\n",
              "          await google.colab.output.renderOutput(dataTable, element);\n",
              "          const docLink = document.createElement('div');\n",
              "          docLink.innerHTML = docLinkHtml;\n",
              "          element.appendChild(docLink);\n",
              "        }\n",
              "      </script>\n",
              "    </div>\n",
              "  </div>\n",
              "  "
            ]
          },
          "metadata": {},
          "execution_count": 30
        }
      ]
    },
    {
      "cell_type": "markdown",
      "source": [
        "Wii Sports 게임의 장르는 Sports, 회사는 Nintendo 입니다."
      ],
      "metadata": {
        "id": "hR_NBLBQACjI"
      }
    },
    {
      "cell_type": "markdown",
      "source": [
        "Pokemon 시리즈 게임을 일본에서의 출고량을 기준으로 상위 10개를 확인해보았습니다.  \n",
        "대부분의 장르가 Role-Playing이며, 회사는 Nintendo입니다."
      ],
      "metadata": {
        "id": "3ZU02YTeAzZ4"
      }
    },
    {
      "cell_type": "markdown",
      "source": [
        "### Grand Theft Auto 시리즈 정보"
      ],
      "metadata": {
        "id": "7Whufy8ABdWi"
      }
    },
    {
      "cell_type": "code",
      "source": [
        "df.loc[df[\"Name\"].str.contains(\"Grand Theft Auto\")].sort_values(by=\"ALL_Sales\", ascending=False)[:10]"
      ],
      "metadata": {
        "colab": {
          "base_uri": "https://localhost:8080/",
          "height": 581
        },
        "id": "XSahAw15BDme",
        "outputId": "99e13bd0-9a25-45eb-accf-6f6bddaa5931"
      },
      "execution_count": null,
      "outputs": [
        {
          "output_type": "execute_result",
          "data": {
            "text/plain": [
              "                                         Name Platform  Year   Genre  \\\n",
              "3414                       Grand Theft Auto V      PS3  2013  Action   \n",
              "14355           Grand Theft Auto: San Andreas      PS2  2004  Action   \n",
              "10695                      Grand Theft Auto V     X360  2013  Action   \n",
              "5226              Grand Theft Auto: Vice City      PS2  2002  Action   \n",
              "9597                     Grand Theft Auto III      PS2  2001  Action   \n",
              "1973                       Grand Theft Auto V      PS4  2014  Action   \n",
              "13626                     Grand Theft Auto IV     X360  2008  Action   \n",
              "16120                     Grand Theft Auto IV      PS3  2008  Action   \n",
              "751    Grand Theft Auto: Liberty City Stories      PSP  2005  Action   \n",
              "6468      Grand Theft Auto: Vice City Stories      PSP  2006  Action   \n",
              "\n",
              "                  Publisher  NA_Sales  EU_Sales  JP_Sales  Other_Sales  \\\n",
              "3414   Take-Two Interactive      7.01      9.27      0.97         4.14   \n",
              "14355  Take-Two Interactive      9.43      0.40      0.41        10.57   \n",
              "10695  Take-Two Interactive      9.63      5.31      0.06         1.38   \n",
              "5226   Take-Two Interactive      8.41      5.49      0.47         1.78   \n",
              "9597   Take-Two Interactive      6.99      4.51      0.30         1.30   \n",
              "1973   Take-Two Interactive      3.80      5.81      0.36         2.02   \n",
              "13626  Take-Two Interactive      6.76      3.10      0.14         1.03   \n",
              "16120  Take-Two Interactive      4.76      3.76      0.44         1.62   \n",
              "751    Take-Two Interactive      2.90      2.83      0.24         1.75   \n",
              "6468   Take-Two Interactive      1.70      2.02      0.16         1.21   \n",
              "\n",
              "       ALL_Sales  \n",
              "3414       21.39  \n",
              "14355      20.81  \n",
              "10695      16.38  \n",
              "5226       16.15  \n",
              "9597       13.10  \n",
              "1973       11.99  \n",
              "13626      11.03  \n",
              "16120      10.58  \n",
              "751         7.72  \n",
              "6468        5.09  "
            ],
            "text/html": [
              "\n",
              "  <div id=\"df-13a675be-1ada-4df7-946a-6bd937d7c747\">\n",
              "    <div class=\"colab-df-container\">\n",
              "      <div>\n",
              "<style scoped>\n",
              "    .dataframe tbody tr th:only-of-type {\n",
              "        vertical-align: middle;\n",
              "    }\n",
              "\n",
              "    .dataframe tbody tr th {\n",
              "        vertical-align: top;\n",
              "    }\n",
              "\n",
              "    .dataframe thead th {\n",
              "        text-align: right;\n",
              "    }\n",
              "</style>\n",
              "<table border=\"1\" class=\"dataframe\">\n",
              "  <thead>\n",
              "    <tr style=\"text-align: right;\">\n",
              "      <th></th>\n",
              "      <th>Name</th>\n",
              "      <th>Platform</th>\n",
              "      <th>Year</th>\n",
              "      <th>Genre</th>\n",
              "      <th>Publisher</th>\n",
              "      <th>NA_Sales</th>\n",
              "      <th>EU_Sales</th>\n",
              "      <th>JP_Sales</th>\n",
              "      <th>Other_Sales</th>\n",
              "      <th>ALL_Sales</th>\n",
              "    </tr>\n",
              "  </thead>\n",
              "  <tbody>\n",
              "    <tr>\n",
              "      <th>3414</th>\n",
              "      <td>Grand Theft Auto V</td>\n",
              "      <td>PS3</td>\n",
              "      <td>2013</td>\n",
              "      <td>Action</td>\n",
              "      <td>Take-Two Interactive</td>\n",
              "      <td>7.01</td>\n",
              "      <td>9.27</td>\n",
              "      <td>0.97</td>\n",
              "      <td>4.14</td>\n",
              "      <td>21.39</td>\n",
              "    </tr>\n",
              "    <tr>\n",
              "      <th>14355</th>\n",
              "      <td>Grand Theft Auto: San Andreas</td>\n",
              "      <td>PS2</td>\n",
              "      <td>2004</td>\n",
              "      <td>Action</td>\n",
              "      <td>Take-Two Interactive</td>\n",
              "      <td>9.43</td>\n",
              "      <td>0.40</td>\n",
              "      <td>0.41</td>\n",
              "      <td>10.57</td>\n",
              "      <td>20.81</td>\n",
              "    </tr>\n",
              "    <tr>\n",
              "      <th>10695</th>\n",
              "      <td>Grand Theft Auto V</td>\n",
              "      <td>X360</td>\n",
              "      <td>2013</td>\n",
              "      <td>Action</td>\n",
              "      <td>Take-Two Interactive</td>\n",
              "      <td>9.63</td>\n",
              "      <td>5.31</td>\n",
              "      <td>0.06</td>\n",
              "      <td>1.38</td>\n",
              "      <td>16.38</td>\n",
              "    </tr>\n",
              "    <tr>\n",
              "      <th>5226</th>\n",
              "      <td>Grand Theft Auto: Vice City</td>\n",
              "      <td>PS2</td>\n",
              "      <td>2002</td>\n",
              "      <td>Action</td>\n",
              "      <td>Take-Two Interactive</td>\n",
              "      <td>8.41</td>\n",
              "      <td>5.49</td>\n",
              "      <td>0.47</td>\n",
              "      <td>1.78</td>\n",
              "      <td>16.15</td>\n",
              "    </tr>\n",
              "    <tr>\n",
              "      <th>9597</th>\n",
              "      <td>Grand Theft Auto III</td>\n",
              "      <td>PS2</td>\n",
              "      <td>2001</td>\n",
              "      <td>Action</td>\n",
              "      <td>Take-Two Interactive</td>\n",
              "      <td>6.99</td>\n",
              "      <td>4.51</td>\n",
              "      <td>0.30</td>\n",
              "      <td>1.30</td>\n",
              "      <td>13.10</td>\n",
              "    </tr>\n",
              "    <tr>\n",
              "      <th>1973</th>\n",
              "      <td>Grand Theft Auto V</td>\n",
              "      <td>PS4</td>\n",
              "      <td>2014</td>\n",
              "      <td>Action</td>\n",
              "      <td>Take-Two Interactive</td>\n",
              "      <td>3.80</td>\n",
              "      <td>5.81</td>\n",
              "      <td>0.36</td>\n",
              "      <td>2.02</td>\n",
              "      <td>11.99</td>\n",
              "    </tr>\n",
              "    <tr>\n",
              "      <th>13626</th>\n",
              "      <td>Grand Theft Auto IV</td>\n",
              "      <td>X360</td>\n",
              "      <td>2008</td>\n",
              "      <td>Action</td>\n",
              "      <td>Take-Two Interactive</td>\n",
              "      <td>6.76</td>\n",
              "      <td>3.10</td>\n",
              "      <td>0.14</td>\n",
              "      <td>1.03</td>\n",
              "      <td>11.03</td>\n",
              "    </tr>\n",
              "    <tr>\n",
              "      <th>16120</th>\n",
              "      <td>Grand Theft Auto IV</td>\n",
              "      <td>PS3</td>\n",
              "      <td>2008</td>\n",
              "      <td>Action</td>\n",
              "      <td>Take-Two Interactive</td>\n",
              "      <td>4.76</td>\n",
              "      <td>3.76</td>\n",
              "      <td>0.44</td>\n",
              "      <td>1.62</td>\n",
              "      <td>10.58</td>\n",
              "    </tr>\n",
              "    <tr>\n",
              "      <th>751</th>\n",
              "      <td>Grand Theft Auto: Liberty City Stories</td>\n",
              "      <td>PSP</td>\n",
              "      <td>2005</td>\n",
              "      <td>Action</td>\n",
              "      <td>Take-Two Interactive</td>\n",
              "      <td>2.90</td>\n",
              "      <td>2.83</td>\n",
              "      <td>0.24</td>\n",
              "      <td>1.75</td>\n",
              "      <td>7.72</td>\n",
              "    </tr>\n",
              "    <tr>\n",
              "      <th>6468</th>\n",
              "      <td>Grand Theft Auto: Vice City Stories</td>\n",
              "      <td>PSP</td>\n",
              "      <td>2006</td>\n",
              "      <td>Action</td>\n",
              "      <td>Take-Two Interactive</td>\n",
              "      <td>1.70</td>\n",
              "      <td>2.02</td>\n",
              "      <td>0.16</td>\n",
              "      <td>1.21</td>\n",
              "      <td>5.09</td>\n",
              "    </tr>\n",
              "  </tbody>\n",
              "</table>\n",
              "</div>\n",
              "      <button class=\"colab-df-convert\" onclick=\"convertToInteractive('df-13a675be-1ada-4df7-946a-6bd937d7c747')\"\n",
              "              title=\"Convert this dataframe to an interactive table.\"\n",
              "              style=\"display:none;\">\n",
              "        \n",
              "  <svg xmlns=\"http://www.w3.org/2000/svg\" height=\"24px\"viewBox=\"0 0 24 24\"\n",
              "       width=\"24px\">\n",
              "    <path d=\"M0 0h24v24H0V0z\" fill=\"none\"/>\n",
              "    <path d=\"M18.56 5.44l.94 2.06.94-2.06 2.06-.94-2.06-.94-.94-2.06-.94 2.06-2.06.94zm-11 1L8.5 8.5l.94-2.06 2.06-.94-2.06-.94L8.5 2.5l-.94 2.06-2.06.94zm10 10l.94 2.06.94-2.06 2.06-.94-2.06-.94-.94-2.06-.94 2.06-2.06.94z\"/><path d=\"M17.41 7.96l-1.37-1.37c-.4-.4-.92-.59-1.43-.59-.52 0-1.04.2-1.43.59L10.3 9.45l-7.72 7.72c-.78.78-.78 2.05 0 2.83L4 21.41c.39.39.9.59 1.41.59.51 0 1.02-.2 1.41-.59l7.78-7.78 2.81-2.81c.8-.78.8-2.07 0-2.86zM5.41 20L4 18.59l7.72-7.72 1.47 1.35L5.41 20z\"/>\n",
              "  </svg>\n",
              "      </button>\n",
              "      \n",
              "  <style>\n",
              "    .colab-df-container {\n",
              "      display:flex;\n",
              "      flex-wrap:wrap;\n",
              "      gap: 12px;\n",
              "    }\n",
              "\n",
              "    .colab-df-convert {\n",
              "      background-color: #E8F0FE;\n",
              "      border: none;\n",
              "      border-radius: 50%;\n",
              "      cursor: pointer;\n",
              "      display: none;\n",
              "      fill: #1967D2;\n",
              "      height: 32px;\n",
              "      padding: 0 0 0 0;\n",
              "      width: 32px;\n",
              "    }\n",
              "\n",
              "    .colab-df-convert:hover {\n",
              "      background-color: #E2EBFA;\n",
              "      box-shadow: 0px 1px 2px rgba(60, 64, 67, 0.3), 0px 1px 3px 1px rgba(60, 64, 67, 0.15);\n",
              "      fill: #174EA6;\n",
              "    }\n",
              "\n",
              "    [theme=dark] .colab-df-convert {\n",
              "      background-color: #3B4455;\n",
              "      fill: #D2E3FC;\n",
              "    }\n",
              "\n",
              "    [theme=dark] .colab-df-convert:hover {\n",
              "      background-color: #434B5C;\n",
              "      box-shadow: 0px 1px 3px 1px rgba(0, 0, 0, 0.15);\n",
              "      filter: drop-shadow(0px 1px 2px rgba(0, 0, 0, 0.3));\n",
              "      fill: #FFFFFF;\n",
              "    }\n",
              "  </style>\n",
              "\n",
              "      <script>\n",
              "        const buttonEl =\n",
              "          document.querySelector('#df-13a675be-1ada-4df7-946a-6bd937d7c747 button.colab-df-convert');\n",
              "        buttonEl.style.display =\n",
              "          google.colab.kernel.accessAllowed ? 'block' : 'none';\n",
              "\n",
              "        async function convertToInteractive(key) {\n",
              "          const element = document.querySelector('#df-13a675be-1ada-4df7-946a-6bd937d7c747');\n",
              "          const dataTable =\n",
              "            await google.colab.kernel.invokeFunction('convertToInteractive',\n",
              "                                                     [key], {});\n",
              "          if (!dataTable) return;\n",
              "\n",
              "          const docLinkHtml = 'Like what you see? Visit the ' +\n",
              "            '<a target=\"_blank\" href=https://colab.research.google.com/notebooks/data_table.ipynb>data table notebook</a>'\n",
              "            + ' to learn more about interactive tables.';\n",
              "          element.innerHTML = '';\n",
              "          dataTable['output_type'] = 'display_data';\n",
              "          await google.colab.output.renderOutput(dataTable, element);\n",
              "          const docLink = document.createElement('div');\n",
              "          docLink.innerHTML = docLinkHtml;\n",
              "          element.appendChild(docLink);\n",
              "        }\n",
              "      </script>\n",
              "    </div>\n",
              "  </div>\n",
              "  "
            ]
          },
          "metadata": {},
          "execution_count": 31
        }
      ]
    },
    {
      "cell_type": "markdown",
      "source": [
        ""
      ],
      "metadata": {
        "id": "6ALyQu17BpdI"
      }
    },
    {
      "cell_type": "markdown",
      "source": [
        "### FIFA 시리즈 정보"
      ],
      "metadata": {
        "id": "sBxHkPiB7AlA"
      }
    },
    {
      "cell_type": "code",
      "source": [
        "df.loc[df[\"Name\"].str.contains(\"FIFA\")].sort_values(by=\"ALL_Sales\", ascending=False)[:10]"
      ],
      "metadata": {
        "colab": {
          "base_uri": "https://localhost:8080/",
          "height": 363
        },
        "id": "pdmyDjmP7Eux",
        "outputId": "742d195c-6da4-4dc9-9b94-59c9012483e8"
      },
      "execution_count": null,
      "outputs": [
        {
          "output_type": "execute_result",
          "data": {
            "text/plain": [
              "                 Name Platform  Year   Genre        Publisher  NA_Sales  \\\n",
              "2587          FIFA 16      PS4  2015  Sports  Electronic Arts      1.11   \n",
              "8857   FIFA Soccer 13      PS3  2012  Action  Electronic Arts      1.06   \n",
              "2671          FIFA 14      PS3  2013  Sports  Electronic Arts      0.78   \n",
              "13203         FIFA 12      PS3  2011  Sports  Electronic Arts      0.84   \n",
              "3022          FIFA 15      PS4  2014  Sports  Electronic Arts      0.79   \n",
              "12203  FIFA Soccer 13     X360  2012  Action  Electronic Arts      1.08   \n",
              "9993   FIFA Soccer 11      PS3  2010  Sports  Electronic Arts      0.60   \n",
              "14154         FIFA 15      PS3  2014  Sports  Electronic Arts      0.57   \n",
              "15144         FIFA 17      PS4  2016  Sports  Electronic Arts      0.28   \n",
              "7708          FIFA 14     X360  2013  Sports  Electronic Arts      0.92   \n",
              "\n",
              "       EU_Sales  JP_Sales  Other_Sales  ALL_Sales  \n",
              "2587       6.06      0.06         1.26       8.49  \n",
              "8857       5.05      0.13         2.01       8.25  \n",
              "2671       4.32      0.07         1.73       6.90  \n",
              "13203      4.32      0.11         1.42       6.69  \n",
              "3022       4.29      0.05         1.47       6.60  \n",
              "12203      3.48      0.03         0.58       5.17  \n",
              "9993       3.29      0.06         1.13       5.08  \n",
              "14154      3.14      0.04         1.07       4.82  \n",
              "15144      3.75      0.06         0.69       4.78  \n",
              "7708       2.93      0.01         0.46       4.32  "
            ],
            "text/html": [
              "\n",
              "  <div id=\"df-75f836b0-9b47-4793-b554-9f947094e5bc\">\n",
              "    <div class=\"colab-df-container\">\n",
              "      <div>\n",
              "<style scoped>\n",
              "    .dataframe tbody tr th:only-of-type {\n",
              "        vertical-align: middle;\n",
              "    }\n",
              "\n",
              "    .dataframe tbody tr th {\n",
              "        vertical-align: top;\n",
              "    }\n",
              "\n",
              "    .dataframe thead th {\n",
              "        text-align: right;\n",
              "    }\n",
              "</style>\n",
              "<table border=\"1\" class=\"dataframe\">\n",
              "  <thead>\n",
              "    <tr style=\"text-align: right;\">\n",
              "      <th></th>\n",
              "      <th>Name</th>\n",
              "      <th>Platform</th>\n",
              "      <th>Year</th>\n",
              "      <th>Genre</th>\n",
              "      <th>Publisher</th>\n",
              "      <th>NA_Sales</th>\n",
              "      <th>EU_Sales</th>\n",
              "      <th>JP_Sales</th>\n",
              "      <th>Other_Sales</th>\n",
              "      <th>ALL_Sales</th>\n",
              "    </tr>\n",
              "  </thead>\n",
              "  <tbody>\n",
              "    <tr>\n",
              "      <th>2587</th>\n",
              "      <td>FIFA 16</td>\n",
              "      <td>PS4</td>\n",
              "      <td>2015</td>\n",
              "      <td>Sports</td>\n",
              "      <td>Electronic Arts</td>\n",
              "      <td>1.11</td>\n",
              "      <td>6.06</td>\n",
              "      <td>0.06</td>\n",
              "      <td>1.26</td>\n",
              "      <td>8.49</td>\n",
              "    </tr>\n",
              "    <tr>\n",
              "      <th>8857</th>\n",
              "      <td>FIFA Soccer 13</td>\n",
              "      <td>PS3</td>\n",
              "      <td>2012</td>\n",
              "      <td>Action</td>\n",
              "      <td>Electronic Arts</td>\n",
              "      <td>1.06</td>\n",
              "      <td>5.05</td>\n",
              "      <td>0.13</td>\n",
              "      <td>2.01</td>\n",
              "      <td>8.25</td>\n",
              "    </tr>\n",
              "    <tr>\n",
              "      <th>2671</th>\n",
              "      <td>FIFA 14</td>\n",
              "      <td>PS3</td>\n",
              "      <td>2013</td>\n",
              "      <td>Sports</td>\n",
              "      <td>Electronic Arts</td>\n",
              "      <td>0.78</td>\n",
              "      <td>4.32</td>\n",
              "      <td>0.07</td>\n",
              "      <td>1.73</td>\n",
              "      <td>6.90</td>\n",
              "    </tr>\n",
              "    <tr>\n",
              "      <th>13203</th>\n",
              "      <td>FIFA 12</td>\n",
              "      <td>PS3</td>\n",
              "      <td>2011</td>\n",
              "      <td>Sports</td>\n",
              "      <td>Electronic Arts</td>\n",
              "      <td>0.84</td>\n",
              "      <td>4.32</td>\n",
              "      <td>0.11</td>\n",
              "      <td>1.42</td>\n",
              "      <td>6.69</td>\n",
              "    </tr>\n",
              "    <tr>\n",
              "      <th>3022</th>\n",
              "      <td>FIFA 15</td>\n",
              "      <td>PS4</td>\n",
              "      <td>2014</td>\n",
              "      <td>Sports</td>\n",
              "      <td>Electronic Arts</td>\n",
              "      <td>0.79</td>\n",
              "      <td>4.29</td>\n",
              "      <td>0.05</td>\n",
              "      <td>1.47</td>\n",
              "      <td>6.60</td>\n",
              "    </tr>\n",
              "    <tr>\n",
              "      <th>12203</th>\n",
              "      <td>FIFA Soccer 13</td>\n",
              "      <td>X360</td>\n",
              "      <td>2012</td>\n",
              "      <td>Action</td>\n",
              "      <td>Electronic Arts</td>\n",
              "      <td>1.08</td>\n",
              "      <td>3.48</td>\n",
              "      <td>0.03</td>\n",
              "      <td>0.58</td>\n",
              "      <td>5.17</td>\n",
              "    </tr>\n",
              "    <tr>\n",
              "      <th>9993</th>\n",
              "      <td>FIFA Soccer 11</td>\n",
              "      <td>PS3</td>\n",
              "      <td>2010</td>\n",
              "      <td>Sports</td>\n",
              "      <td>Electronic Arts</td>\n",
              "      <td>0.60</td>\n",
              "      <td>3.29</td>\n",
              "      <td>0.06</td>\n",
              "      <td>1.13</td>\n",
              "      <td>5.08</td>\n",
              "    </tr>\n",
              "    <tr>\n",
              "      <th>14154</th>\n",
              "      <td>FIFA 15</td>\n",
              "      <td>PS3</td>\n",
              "      <td>2014</td>\n",
              "      <td>Sports</td>\n",
              "      <td>Electronic Arts</td>\n",
              "      <td>0.57</td>\n",
              "      <td>3.14</td>\n",
              "      <td>0.04</td>\n",
              "      <td>1.07</td>\n",
              "      <td>4.82</td>\n",
              "    </tr>\n",
              "    <tr>\n",
              "      <th>15144</th>\n",
              "      <td>FIFA 17</td>\n",
              "      <td>PS4</td>\n",
              "      <td>2016</td>\n",
              "      <td>Sports</td>\n",
              "      <td>Electronic Arts</td>\n",
              "      <td>0.28</td>\n",
              "      <td>3.75</td>\n",
              "      <td>0.06</td>\n",
              "      <td>0.69</td>\n",
              "      <td>4.78</td>\n",
              "    </tr>\n",
              "    <tr>\n",
              "      <th>7708</th>\n",
              "      <td>FIFA 14</td>\n",
              "      <td>X360</td>\n",
              "      <td>2013</td>\n",
              "      <td>Sports</td>\n",
              "      <td>Electronic Arts</td>\n",
              "      <td>0.92</td>\n",
              "      <td>2.93</td>\n",
              "      <td>0.01</td>\n",
              "      <td>0.46</td>\n",
              "      <td>4.32</td>\n",
              "    </tr>\n",
              "  </tbody>\n",
              "</table>\n",
              "</div>\n",
              "      <button class=\"colab-df-convert\" onclick=\"convertToInteractive('df-75f836b0-9b47-4793-b554-9f947094e5bc')\"\n",
              "              title=\"Convert this dataframe to an interactive table.\"\n",
              "              style=\"display:none;\">\n",
              "        \n",
              "  <svg xmlns=\"http://www.w3.org/2000/svg\" height=\"24px\"viewBox=\"0 0 24 24\"\n",
              "       width=\"24px\">\n",
              "    <path d=\"M0 0h24v24H0V0z\" fill=\"none\"/>\n",
              "    <path d=\"M18.56 5.44l.94 2.06.94-2.06 2.06-.94-2.06-.94-.94-2.06-.94 2.06-2.06.94zm-11 1L8.5 8.5l.94-2.06 2.06-.94-2.06-.94L8.5 2.5l-.94 2.06-2.06.94zm10 10l.94 2.06.94-2.06 2.06-.94-2.06-.94-.94-2.06-.94 2.06-2.06.94z\"/><path d=\"M17.41 7.96l-1.37-1.37c-.4-.4-.92-.59-1.43-.59-.52 0-1.04.2-1.43.59L10.3 9.45l-7.72 7.72c-.78.78-.78 2.05 0 2.83L4 21.41c.39.39.9.59 1.41.59.51 0 1.02-.2 1.41-.59l7.78-7.78 2.81-2.81c.8-.78.8-2.07 0-2.86zM5.41 20L4 18.59l7.72-7.72 1.47 1.35L5.41 20z\"/>\n",
              "  </svg>\n",
              "      </button>\n",
              "      \n",
              "  <style>\n",
              "    .colab-df-container {\n",
              "      display:flex;\n",
              "      flex-wrap:wrap;\n",
              "      gap: 12px;\n",
              "    }\n",
              "\n",
              "    .colab-df-convert {\n",
              "      background-color: #E8F0FE;\n",
              "      border: none;\n",
              "      border-radius: 50%;\n",
              "      cursor: pointer;\n",
              "      display: none;\n",
              "      fill: #1967D2;\n",
              "      height: 32px;\n",
              "      padding: 0 0 0 0;\n",
              "      width: 32px;\n",
              "    }\n",
              "\n",
              "    .colab-df-convert:hover {\n",
              "      background-color: #E2EBFA;\n",
              "      box-shadow: 0px 1px 2px rgba(60, 64, 67, 0.3), 0px 1px 3px 1px rgba(60, 64, 67, 0.15);\n",
              "      fill: #174EA6;\n",
              "    }\n",
              "\n",
              "    [theme=dark] .colab-df-convert {\n",
              "      background-color: #3B4455;\n",
              "      fill: #D2E3FC;\n",
              "    }\n",
              "\n",
              "    [theme=dark] .colab-df-convert:hover {\n",
              "      background-color: #434B5C;\n",
              "      box-shadow: 0px 1px 3px 1px rgba(0, 0, 0, 0.15);\n",
              "      filter: drop-shadow(0px 1px 2px rgba(0, 0, 0, 0.3));\n",
              "      fill: #FFFFFF;\n",
              "    }\n",
              "  </style>\n",
              "\n",
              "      <script>\n",
              "        const buttonEl =\n",
              "          document.querySelector('#df-75f836b0-9b47-4793-b554-9f947094e5bc button.colab-df-convert');\n",
              "        buttonEl.style.display =\n",
              "          google.colab.kernel.accessAllowed ? 'block' : 'none';\n",
              "\n",
              "        async function convertToInteractive(key) {\n",
              "          const element = document.querySelector('#df-75f836b0-9b47-4793-b554-9f947094e5bc');\n",
              "          const dataTable =\n",
              "            await google.colab.kernel.invokeFunction('convertToInteractive',\n",
              "                                                     [key], {});\n",
              "          if (!dataTable) return;\n",
              "\n",
              "          const docLinkHtml = 'Like what you see? Visit the ' +\n",
              "            '<a target=\"_blank\" href=https://colab.research.google.com/notebooks/data_table.ipynb>data table notebook</a>'\n",
              "            + ' to learn more about interactive tables.';\n",
              "          element.innerHTML = '';\n",
              "          dataTable['output_type'] = 'display_data';\n",
              "          await google.colab.output.renderOutput(dataTable, element);\n",
              "          const docLink = document.createElement('div');\n",
              "          docLink.innerHTML = docLinkHtml;\n",
              "          element.appendChild(docLink);\n",
              "        }\n",
              "      </script>\n",
              "    </div>\n",
              "  </div>\n",
              "  "
            ]
          },
          "metadata": {},
          "execution_count": 32
        }
      ]
    },
    {
      "cell_type": "markdown",
      "source": [
        "###Pokemon 시리즈의 정보"
      ],
      "metadata": {
        "id": "_WbYJUARAj4F"
      }
    },
    {
      "cell_type": "code",
      "source": [
        "df.loc[df[\"Name\"].str.contains(\"Pokemon\")].sort_values(by=\"JP_Sales\", ascending=False)[:10]"
      ],
      "metadata": {
        "colab": {
          "base_uri": "https://localhost:8080/",
          "height": 615
        },
        "id": "PuMNnusrAMFE",
        "outputId": "84c82e59-3fb2-4618-ce59-4c7d0208c27a"
      },
      "execution_count": null,
      "outputs": [
        {
          "output_type": "execute_result",
          "data": {
            "text/plain": [
              "                                                    Name Platform  Year  \\\n",
              "7673                            Pokemon Red/Pokemon Blue       GB  1996   \n",
              "9233                         Pokemon Gold/Pokemon Silver       GB  1999   \n",
              "10345                      Pokemon Diamond/Pokemon Pearl       DS  2006   \n",
              "10410                        Pokemon Black/Pokemon White       DS  2010   \n",
              "10698                      Pokemon Ruby/Pokemon Sapphire      GBA  2002   \n",
              "4704                Pokemon HeartGold/Pokemon SoulSilver       DS  2009   \n",
              "1780                   Pokemon FireRed/Pokemon LeafGreen      GBA  2004   \n",
              "15337                    Pokemon Black 2/Pokemon White 2       DS  2012   \n",
              "4163           Pokemon Omega Ruby/Pokemon Alpha Sapphire      3DS  2014   \n",
              "15551  Pokemon Mystery Dungeon: Explorers of Time/Exp...       DS  2007   \n",
              "\n",
              "              Genre Publisher  NA_Sales  EU_Sales  JP_Sales  Other_Sales  \\\n",
              "7673   Role-Playing  Nintendo     11.27      8.89     10.22         1.00   \n",
              "9233   Role-Playing  Nintendo      9.00      6.18      7.20         0.71   \n",
              "10345  Role-Playing  Nintendo      6.42      4.52      6.04         1.37   \n",
              "10410  Role-Playing  Nintendo      5.57      3.28      5.65         0.82   \n",
              "10698  Role-Playing  Nintendo      6.06      3.90      5.38         0.50   \n",
              "4704         Action  Nintendo      4.40      2.77      3.96         0.77   \n",
              "1780   Role-Playing  Nintendo      4.34      2.65      3.15         0.35   \n",
              "15337  Role-Playing  Nintendo      2.91      1.86      3.14         0.43   \n",
              "4163   Role-Playing  Nintendo      4.23      3.37      3.08         0.65   \n",
              "15551  Role-Playing  Nintendo      1.85      1.20      1.54         0.37   \n",
              "\n",
              "       ALL_Sales  \n",
              "7673       31.38  \n",
              "9233       23.09  \n",
              "10345      18.35  \n",
              "10410      15.32  \n",
              "10698      15.84  \n",
              "4704       11.90  \n",
              "1780       10.49  \n",
              "15337       8.34  \n",
              "4163       11.33  \n",
              "15551       4.96  "
            ],
            "text/html": [
              "\n",
              "  <div id=\"df-89a41418-f806-47f5-add3-3039abb24208\">\n",
              "    <div class=\"colab-df-container\">\n",
              "      <div>\n",
              "<style scoped>\n",
              "    .dataframe tbody tr th:only-of-type {\n",
              "        vertical-align: middle;\n",
              "    }\n",
              "\n",
              "    .dataframe tbody tr th {\n",
              "        vertical-align: top;\n",
              "    }\n",
              "\n",
              "    .dataframe thead th {\n",
              "        text-align: right;\n",
              "    }\n",
              "</style>\n",
              "<table border=\"1\" class=\"dataframe\">\n",
              "  <thead>\n",
              "    <tr style=\"text-align: right;\">\n",
              "      <th></th>\n",
              "      <th>Name</th>\n",
              "      <th>Platform</th>\n",
              "      <th>Year</th>\n",
              "      <th>Genre</th>\n",
              "      <th>Publisher</th>\n",
              "      <th>NA_Sales</th>\n",
              "      <th>EU_Sales</th>\n",
              "      <th>JP_Sales</th>\n",
              "      <th>Other_Sales</th>\n",
              "      <th>ALL_Sales</th>\n",
              "    </tr>\n",
              "  </thead>\n",
              "  <tbody>\n",
              "    <tr>\n",
              "      <th>7673</th>\n",
              "      <td>Pokemon Red/Pokemon Blue</td>\n",
              "      <td>GB</td>\n",
              "      <td>1996</td>\n",
              "      <td>Role-Playing</td>\n",
              "      <td>Nintendo</td>\n",
              "      <td>11.27</td>\n",
              "      <td>8.89</td>\n",
              "      <td>10.22</td>\n",
              "      <td>1.00</td>\n",
              "      <td>31.38</td>\n",
              "    </tr>\n",
              "    <tr>\n",
              "      <th>9233</th>\n",
              "      <td>Pokemon Gold/Pokemon Silver</td>\n",
              "      <td>GB</td>\n",
              "      <td>1999</td>\n",
              "      <td>Role-Playing</td>\n",
              "      <td>Nintendo</td>\n",
              "      <td>9.00</td>\n",
              "      <td>6.18</td>\n",
              "      <td>7.20</td>\n",
              "      <td>0.71</td>\n",
              "      <td>23.09</td>\n",
              "    </tr>\n",
              "    <tr>\n",
              "      <th>10345</th>\n",
              "      <td>Pokemon Diamond/Pokemon Pearl</td>\n",
              "      <td>DS</td>\n",
              "      <td>2006</td>\n",
              "      <td>Role-Playing</td>\n",
              "      <td>Nintendo</td>\n",
              "      <td>6.42</td>\n",
              "      <td>4.52</td>\n",
              "      <td>6.04</td>\n",
              "      <td>1.37</td>\n",
              "      <td>18.35</td>\n",
              "    </tr>\n",
              "    <tr>\n",
              "      <th>10410</th>\n",
              "      <td>Pokemon Black/Pokemon White</td>\n",
              "      <td>DS</td>\n",
              "      <td>2010</td>\n",
              "      <td>Role-Playing</td>\n",
              "      <td>Nintendo</td>\n",
              "      <td>5.57</td>\n",
              "      <td>3.28</td>\n",
              "      <td>5.65</td>\n",
              "      <td>0.82</td>\n",
              "      <td>15.32</td>\n",
              "    </tr>\n",
              "    <tr>\n",
              "      <th>10698</th>\n",
              "      <td>Pokemon Ruby/Pokemon Sapphire</td>\n",
              "      <td>GBA</td>\n",
              "      <td>2002</td>\n",
              "      <td>Role-Playing</td>\n",
              "      <td>Nintendo</td>\n",
              "      <td>6.06</td>\n",
              "      <td>3.90</td>\n",
              "      <td>5.38</td>\n",
              "      <td>0.50</td>\n",
              "      <td>15.84</td>\n",
              "    </tr>\n",
              "    <tr>\n",
              "      <th>4704</th>\n",
              "      <td>Pokemon HeartGold/Pokemon SoulSilver</td>\n",
              "      <td>DS</td>\n",
              "      <td>2009</td>\n",
              "      <td>Action</td>\n",
              "      <td>Nintendo</td>\n",
              "      <td>4.40</td>\n",
              "      <td>2.77</td>\n",
              "      <td>3.96</td>\n",
              "      <td>0.77</td>\n",
              "      <td>11.90</td>\n",
              "    </tr>\n",
              "    <tr>\n",
              "      <th>1780</th>\n",
              "      <td>Pokemon FireRed/Pokemon LeafGreen</td>\n",
              "      <td>GBA</td>\n",
              "      <td>2004</td>\n",
              "      <td>Role-Playing</td>\n",
              "      <td>Nintendo</td>\n",
              "      <td>4.34</td>\n",
              "      <td>2.65</td>\n",
              "      <td>3.15</td>\n",
              "      <td>0.35</td>\n",
              "      <td>10.49</td>\n",
              "    </tr>\n",
              "    <tr>\n",
              "      <th>15337</th>\n",
              "      <td>Pokemon Black 2/Pokemon White 2</td>\n",
              "      <td>DS</td>\n",
              "      <td>2012</td>\n",
              "      <td>Role-Playing</td>\n",
              "      <td>Nintendo</td>\n",
              "      <td>2.91</td>\n",
              "      <td>1.86</td>\n",
              "      <td>3.14</td>\n",
              "      <td>0.43</td>\n",
              "      <td>8.34</td>\n",
              "    </tr>\n",
              "    <tr>\n",
              "      <th>4163</th>\n",
              "      <td>Pokemon Omega Ruby/Pokemon Alpha Sapphire</td>\n",
              "      <td>3DS</td>\n",
              "      <td>2014</td>\n",
              "      <td>Role-Playing</td>\n",
              "      <td>Nintendo</td>\n",
              "      <td>4.23</td>\n",
              "      <td>3.37</td>\n",
              "      <td>3.08</td>\n",
              "      <td>0.65</td>\n",
              "      <td>11.33</td>\n",
              "    </tr>\n",
              "    <tr>\n",
              "      <th>15551</th>\n",
              "      <td>Pokemon Mystery Dungeon: Explorers of Time/Exp...</td>\n",
              "      <td>DS</td>\n",
              "      <td>2007</td>\n",
              "      <td>Role-Playing</td>\n",
              "      <td>Nintendo</td>\n",
              "      <td>1.85</td>\n",
              "      <td>1.20</td>\n",
              "      <td>1.54</td>\n",
              "      <td>0.37</td>\n",
              "      <td>4.96</td>\n",
              "    </tr>\n",
              "  </tbody>\n",
              "</table>\n",
              "</div>\n",
              "      <button class=\"colab-df-convert\" onclick=\"convertToInteractive('df-89a41418-f806-47f5-add3-3039abb24208')\"\n",
              "              title=\"Convert this dataframe to an interactive table.\"\n",
              "              style=\"display:none;\">\n",
              "        \n",
              "  <svg xmlns=\"http://www.w3.org/2000/svg\" height=\"24px\"viewBox=\"0 0 24 24\"\n",
              "       width=\"24px\">\n",
              "    <path d=\"M0 0h24v24H0V0z\" fill=\"none\"/>\n",
              "    <path d=\"M18.56 5.44l.94 2.06.94-2.06 2.06-.94-2.06-.94-.94-2.06-.94 2.06-2.06.94zm-11 1L8.5 8.5l.94-2.06 2.06-.94-2.06-.94L8.5 2.5l-.94 2.06-2.06.94zm10 10l.94 2.06.94-2.06 2.06-.94-2.06-.94-.94-2.06-.94 2.06-2.06.94z\"/><path d=\"M17.41 7.96l-1.37-1.37c-.4-.4-.92-.59-1.43-.59-.52 0-1.04.2-1.43.59L10.3 9.45l-7.72 7.72c-.78.78-.78 2.05 0 2.83L4 21.41c.39.39.9.59 1.41.59.51 0 1.02-.2 1.41-.59l7.78-7.78 2.81-2.81c.8-.78.8-2.07 0-2.86zM5.41 20L4 18.59l7.72-7.72 1.47 1.35L5.41 20z\"/>\n",
              "  </svg>\n",
              "      </button>\n",
              "      \n",
              "  <style>\n",
              "    .colab-df-container {\n",
              "      display:flex;\n",
              "      flex-wrap:wrap;\n",
              "      gap: 12px;\n",
              "    }\n",
              "\n",
              "    .colab-df-convert {\n",
              "      background-color: #E8F0FE;\n",
              "      border: none;\n",
              "      border-radius: 50%;\n",
              "      cursor: pointer;\n",
              "      display: none;\n",
              "      fill: #1967D2;\n",
              "      height: 32px;\n",
              "      padding: 0 0 0 0;\n",
              "      width: 32px;\n",
              "    }\n",
              "\n",
              "    .colab-df-convert:hover {\n",
              "      background-color: #E2EBFA;\n",
              "      box-shadow: 0px 1px 2px rgba(60, 64, 67, 0.3), 0px 1px 3px 1px rgba(60, 64, 67, 0.15);\n",
              "      fill: #174EA6;\n",
              "    }\n",
              "\n",
              "    [theme=dark] .colab-df-convert {\n",
              "      background-color: #3B4455;\n",
              "      fill: #D2E3FC;\n",
              "    }\n",
              "\n",
              "    [theme=dark] .colab-df-convert:hover {\n",
              "      background-color: #434B5C;\n",
              "      box-shadow: 0px 1px 3px 1px rgba(0, 0, 0, 0.15);\n",
              "      filter: drop-shadow(0px 1px 2px rgba(0, 0, 0, 0.3));\n",
              "      fill: #FFFFFF;\n",
              "    }\n",
              "  </style>\n",
              "\n",
              "      <script>\n",
              "        const buttonEl =\n",
              "          document.querySelector('#df-89a41418-f806-47f5-add3-3039abb24208 button.colab-df-convert');\n",
              "        buttonEl.style.display =\n",
              "          google.colab.kernel.accessAllowed ? 'block' : 'none';\n",
              "\n",
              "        async function convertToInteractive(key) {\n",
              "          const element = document.querySelector('#df-89a41418-f806-47f5-add3-3039abb24208');\n",
              "          const dataTable =\n",
              "            await google.colab.kernel.invokeFunction('convertToInteractive',\n",
              "                                                     [key], {});\n",
              "          if (!dataTable) return;\n",
              "\n",
              "          const docLinkHtml = 'Like what you see? Visit the ' +\n",
              "            '<a target=\"_blank\" href=https://colab.research.google.com/notebooks/data_table.ipynb>data table notebook</a>'\n",
              "            + ' to learn more about interactive tables.';\n",
              "          element.innerHTML = '';\n",
              "          dataTable['output_type'] = 'display_data';\n",
              "          await google.colab.output.renderOutput(dataTable, element);\n",
              "          const docLink = document.createElement('div');\n",
              "          docLink.innerHTML = docLinkHtml;\n",
              "          element.appendChild(docLink);\n",
              "        }\n",
              "      </script>\n",
              "    </div>\n",
              "  </div>\n",
              "  "
            ]
          },
          "metadata": {},
          "execution_count": 33
        }
      ]
    },
    {
      "cell_type": "markdown",
      "source": [
        "###Call of Duty 시리즈의 정보"
      ],
      "metadata": {
        "id": "hJtTGRA96Yl7"
      }
    },
    {
      "cell_type": "code",
      "source": [
        "df.loc[df[\"Name\"].str.contains(\"Call of Duty\")].sort_values(by=\"ALL_Sales\", ascending=False)[:10]"
      ],
      "metadata": {
        "colab": {
          "base_uri": "https://localhost:8080/",
          "height": 476
        },
        "id": "n9gmeFGm6BZ6",
        "outputId": "ff63c785-2ea5-4ad6-c4d4-4fe65b0dbf84"
      },
      "execution_count": null,
      "outputs": [
        {
          "output_type": "execute_result",
          "data": {
            "text/plain": [
              "                                 Name Platform  Year    Genre   Publisher  \\\n",
              "2757   Call of Duty: Modern Warfare 3     X360  2011  Shooter  Activision   \n",
              "6119          Call of Duty: Black Ops     X360  2010  Shooter  Activision   \n",
              "8892        Call of Duty: Black Ops 3      PS4  2015  Shooter  Activision   \n",
              "4152       Call of Duty: Black Ops II      PS3  2012  Shooter  Activision   \n",
              "6257       Call of Duty: Black Ops II     X360  2012  Shooter  Activision   \n",
              "6107   Call of Duty: Modern Warfare 2     X360  2009  Shooter  Activision   \n",
              "13814  Call of Duty: Modern Warfare 3      PS3  2011  Shooter  Activision   \n",
              "9733          Call of Duty: Black Ops      PS3  2010  Shooter  Activision   \n",
              "8208   Call of Duty: Modern Warfare 2      PS3  2009  Shooter  Activision   \n",
              "5489             Call of Duty: Ghosts     X360  2013  Shooter  Activision   \n",
              "\n",
              "       NA_Sales  EU_Sales  JP_Sales  Other_Sales  ALL_Sales  \n",
              "2757       9.03      4.28      0.13         1.32      14.76  \n",
              "6119       9.67      3.73      0.11         1.13      14.64  \n",
              "8892       5.77      5.81      0.35         2.31      14.24  \n",
              "4152       4.99      5.88      0.65         2.52      14.04  \n",
              "6257       8.25      4.30      0.07         1.12      13.74  \n",
              "6107       8.52      3.63      0.08         1.29      13.52  \n",
              "13814      5.54      5.82      0.49         1.62      13.47  \n",
              "9733       5.98      4.44      0.48         1.83      12.73  \n",
              "8208       4.99      3.69      0.38         1.63      10.69  \n",
              "5489       6.72      2.63      0.04         0.82      10.21  "
            ],
            "text/html": [
              "\n",
              "  <div id=\"df-18418bd8-7d92-4852-a347-09c69002d5e3\">\n",
              "    <div class=\"colab-df-container\">\n",
              "      <div>\n",
              "<style scoped>\n",
              "    .dataframe tbody tr th:only-of-type {\n",
              "        vertical-align: middle;\n",
              "    }\n",
              "\n",
              "    .dataframe tbody tr th {\n",
              "        vertical-align: top;\n",
              "    }\n",
              "\n",
              "    .dataframe thead th {\n",
              "        text-align: right;\n",
              "    }\n",
              "</style>\n",
              "<table border=\"1\" class=\"dataframe\">\n",
              "  <thead>\n",
              "    <tr style=\"text-align: right;\">\n",
              "      <th></th>\n",
              "      <th>Name</th>\n",
              "      <th>Platform</th>\n",
              "      <th>Year</th>\n",
              "      <th>Genre</th>\n",
              "      <th>Publisher</th>\n",
              "      <th>NA_Sales</th>\n",
              "      <th>EU_Sales</th>\n",
              "      <th>JP_Sales</th>\n",
              "      <th>Other_Sales</th>\n",
              "      <th>ALL_Sales</th>\n",
              "    </tr>\n",
              "  </thead>\n",
              "  <tbody>\n",
              "    <tr>\n",
              "      <th>2757</th>\n",
              "      <td>Call of Duty: Modern Warfare 3</td>\n",
              "      <td>X360</td>\n",
              "      <td>2011</td>\n",
              "      <td>Shooter</td>\n",
              "      <td>Activision</td>\n",
              "      <td>9.03</td>\n",
              "      <td>4.28</td>\n",
              "      <td>0.13</td>\n",
              "      <td>1.32</td>\n",
              "      <td>14.76</td>\n",
              "    </tr>\n",
              "    <tr>\n",
              "      <th>6119</th>\n",
              "      <td>Call of Duty: Black Ops</td>\n",
              "      <td>X360</td>\n",
              "      <td>2010</td>\n",
              "      <td>Shooter</td>\n",
              "      <td>Activision</td>\n",
              "      <td>9.67</td>\n",
              "      <td>3.73</td>\n",
              "      <td>0.11</td>\n",
              "      <td>1.13</td>\n",
              "      <td>14.64</td>\n",
              "    </tr>\n",
              "    <tr>\n",
              "      <th>8892</th>\n",
              "      <td>Call of Duty: Black Ops 3</td>\n",
              "      <td>PS4</td>\n",
              "      <td>2015</td>\n",
              "      <td>Shooter</td>\n",
              "      <td>Activision</td>\n",
              "      <td>5.77</td>\n",
              "      <td>5.81</td>\n",
              "      <td>0.35</td>\n",
              "      <td>2.31</td>\n",
              "      <td>14.24</td>\n",
              "    </tr>\n",
              "    <tr>\n",
              "      <th>4152</th>\n",
              "      <td>Call of Duty: Black Ops II</td>\n",
              "      <td>PS3</td>\n",
              "      <td>2012</td>\n",
              "      <td>Shooter</td>\n",
              "      <td>Activision</td>\n",
              "      <td>4.99</td>\n",
              "      <td>5.88</td>\n",
              "      <td>0.65</td>\n",
              "      <td>2.52</td>\n",
              "      <td>14.04</td>\n",
              "    </tr>\n",
              "    <tr>\n",
              "      <th>6257</th>\n",
              "      <td>Call of Duty: Black Ops II</td>\n",
              "      <td>X360</td>\n",
              "      <td>2012</td>\n",
              "      <td>Shooter</td>\n",
              "      <td>Activision</td>\n",
              "      <td>8.25</td>\n",
              "      <td>4.30</td>\n",
              "      <td>0.07</td>\n",
              "      <td>1.12</td>\n",
              "      <td>13.74</td>\n",
              "    </tr>\n",
              "    <tr>\n",
              "      <th>6107</th>\n",
              "      <td>Call of Duty: Modern Warfare 2</td>\n",
              "      <td>X360</td>\n",
              "      <td>2009</td>\n",
              "      <td>Shooter</td>\n",
              "      <td>Activision</td>\n",
              "      <td>8.52</td>\n",
              "      <td>3.63</td>\n",
              "      <td>0.08</td>\n",
              "      <td>1.29</td>\n",
              "      <td>13.52</td>\n",
              "    </tr>\n",
              "    <tr>\n",
              "      <th>13814</th>\n",
              "      <td>Call of Duty: Modern Warfare 3</td>\n",
              "      <td>PS3</td>\n",
              "      <td>2011</td>\n",
              "      <td>Shooter</td>\n",
              "      <td>Activision</td>\n",
              "      <td>5.54</td>\n",
              "      <td>5.82</td>\n",
              "      <td>0.49</td>\n",
              "      <td>1.62</td>\n",
              "      <td>13.47</td>\n",
              "    </tr>\n",
              "    <tr>\n",
              "      <th>9733</th>\n",
              "      <td>Call of Duty: Black Ops</td>\n",
              "      <td>PS3</td>\n",
              "      <td>2010</td>\n",
              "      <td>Shooter</td>\n",
              "      <td>Activision</td>\n",
              "      <td>5.98</td>\n",
              "      <td>4.44</td>\n",
              "      <td>0.48</td>\n",
              "      <td>1.83</td>\n",
              "      <td>12.73</td>\n",
              "    </tr>\n",
              "    <tr>\n",
              "      <th>8208</th>\n",
              "      <td>Call of Duty: Modern Warfare 2</td>\n",
              "      <td>PS3</td>\n",
              "      <td>2009</td>\n",
              "      <td>Shooter</td>\n",
              "      <td>Activision</td>\n",
              "      <td>4.99</td>\n",
              "      <td>3.69</td>\n",
              "      <td>0.38</td>\n",
              "      <td>1.63</td>\n",
              "      <td>10.69</td>\n",
              "    </tr>\n",
              "    <tr>\n",
              "      <th>5489</th>\n",
              "      <td>Call of Duty: Ghosts</td>\n",
              "      <td>X360</td>\n",
              "      <td>2013</td>\n",
              "      <td>Shooter</td>\n",
              "      <td>Activision</td>\n",
              "      <td>6.72</td>\n",
              "      <td>2.63</td>\n",
              "      <td>0.04</td>\n",
              "      <td>0.82</td>\n",
              "      <td>10.21</td>\n",
              "    </tr>\n",
              "  </tbody>\n",
              "</table>\n",
              "</div>\n",
              "      <button class=\"colab-df-convert\" onclick=\"convertToInteractive('df-18418bd8-7d92-4852-a347-09c69002d5e3')\"\n",
              "              title=\"Convert this dataframe to an interactive table.\"\n",
              "              style=\"display:none;\">\n",
              "        \n",
              "  <svg xmlns=\"http://www.w3.org/2000/svg\" height=\"24px\"viewBox=\"0 0 24 24\"\n",
              "       width=\"24px\">\n",
              "    <path d=\"M0 0h24v24H0V0z\" fill=\"none\"/>\n",
              "    <path d=\"M18.56 5.44l.94 2.06.94-2.06 2.06-.94-2.06-.94-.94-2.06-.94 2.06-2.06.94zm-11 1L8.5 8.5l.94-2.06 2.06-.94-2.06-.94L8.5 2.5l-.94 2.06-2.06.94zm10 10l.94 2.06.94-2.06 2.06-.94-2.06-.94-.94-2.06-.94 2.06-2.06.94z\"/><path d=\"M17.41 7.96l-1.37-1.37c-.4-.4-.92-.59-1.43-.59-.52 0-1.04.2-1.43.59L10.3 9.45l-7.72 7.72c-.78.78-.78 2.05 0 2.83L4 21.41c.39.39.9.59 1.41.59.51 0 1.02-.2 1.41-.59l7.78-7.78 2.81-2.81c.8-.78.8-2.07 0-2.86zM5.41 20L4 18.59l7.72-7.72 1.47 1.35L5.41 20z\"/>\n",
              "  </svg>\n",
              "      </button>\n",
              "      \n",
              "  <style>\n",
              "    .colab-df-container {\n",
              "      display:flex;\n",
              "      flex-wrap:wrap;\n",
              "      gap: 12px;\n",
              "    }\n",
              "\n",
              "    .colab-df-convert {\n",
              "      background-color: #E8F0FE;\n",
              "      border: none;\n",
              "      border-radius: 50%;\n",
              "      cursor: pointer;\n",
              "      display: none;\n",
              "      fill: #1967D2;\n",
              "      height: 32px;\n",
              "      padding: 0 0 0 0;\n",
              "      width: 32px;\n",
              "    }\n",
              "\n",
              "    .colab-df-convert:hover {\n",
              "      background-color: #E2EBFA;\n",
              "      box-shadow: 0px 1px 2px rgba(60, 64, 67, 0.3), 0px 1px 3px 1px rgba(60, 64, 67, 0.15);\n",
              "      fill: #174EA6;\n",
              "    }\n",
              "\n",
              "    [theme=dark] .colab-df-convert {\n",
              "      background-color: #3B4455;\n",
              "      fill: #D2E3FC;\n",
              "    }\n",
              "\n",
              "    [theme=dark] .colab-df-convert:hover {\n",
              "      background-color: #434B5C;\n",
              "      box-shadow: 0px 1px 3px 1px rgba(0, 0, 0, 0.15);\n",
              "      filter: drop-shadow(0px 1px 2px rgba(0, 0, 0, 0.3));\n",
              "      fill: #FFFFFF;\n",
              "    }\n",
              "  </style>\n",
              "\n",
              "      <script>\n",
              "        const buttonEl =\n",
              "          document.querySelector('#df-18418bd8-7d92-4852-a347-09c69002d5e3 button.colab-df-convert');\n",
              "        buttonEl.style.display =\n",
              "          google.colab.kernel.accessAllowed ? 'block' : 'none';\n",
              "\n",
              "        async function convertToInteractive(key) {\n",
              "          const element = document.querySelector('#df-18418bd8-7d92-4852-a347-09c69002d5e3');\n",
              "          const dataTable =\n",
              "            await google.colab.kernel.invokeFunction('convertToInteractive',\n",
              "                                                     [key], {});\n",
              "          if (!dataTable) return;\n",
              "\n",
              "          const docLinkHtml = 'Like what you see? Visit the ' +\n",
              "            '<a target=\"_blank\" href=https://colab.research.google.com/notebooks/data_table.ipynb>data table notebook</a>'\n",
              "            + ' to learn more about interactive tables.';\n",
              "          element.innerHTML = '';\n",
              "          dataTable['output_type'] = 'display_data';\n",
              "          await google.colab.output.renderOutput(dataTable, element);\n",
              "          const docLink = document.createElement('div');\n",
              "          docLink.innerHTML = docLinkHtml;\n",
              "          element.appendChild(docLink);\n",
              "        }\n",
              "      </script>\n",
              "    </div>\n",
              "  </div>\n",
              "  "
            ]
          },
          "metadata": {},
          "execution_count": 34
        }
      ]
    },
    {
      "cell_type": "markdown",
      "source": [
        "## 연도별 트렌드 분석"
      ],
      "metadata": {
        "id": "T9cyi8swKfv0"
      }
    },
    {
      "cell_type": "markdown",
      "source": [
        "### 장르 분석"
      ],
      "metadata": {
        "id": "HgoInOEgK8GU"
      }
    },
    {
      "cell_type": "markdown",
      "source": [
        "#### Action\n"
      ],
      "metadata": {
        "id": "VFY-NS2TMBxU"
      }
    },
    {
      "cell_type": "markdown",
      "source": [
        "지역별 Action 장르의 판매량을 확인해보겠습니다."
      ],
      "metadata": {
        "id": "wNodEuOgLA06"
      }
    },
    {
      "cell_type": "code",
      "source": [
        "#연도별 지역의 Action 판매량\n",
        "sales_features = [\"NA_Sales\",\"EU_Sales\",\"JP_Sales\",\"Other_Sales\"]\n",
        "\n",
        "f, ax = plt.subplots(2,2,figsize=(25, 12), constrained_layout=True)\n",
        "sales_name = {\"NA_Sales\" : (\"North America\",ax[0][0]),\n",
        "              \"EU_Sales\" : (\"Europe\",ax[0][1]),\n",
        "              \"JP_Sales\" : (\"Japan\", ax[1][0]),\n",
        "              \"Other_Sales\" : (\"Other\",ax[1][1])}\n",
        "\n",
        "for feature in sales_features:\n",
        "  year_games = pd.DataFrame(df.loc[df['Genre']==\"Action\"].groupby(\"Year\")[feature].sum())\n",
        "  sns.barplot(data=year_games, x=year_games.index, y=feature, ax=sales_name[feature][1])\n",
        "  sales_name[feature][1].set_title(sales_name[feature][0], fontsize=15)\n",
        "  sales_name[feature][1].set_xticklabels(year_games.index, rotation=30)\n",
        "  sales_name[feature][1].set_ylim(0,80)\n",
        "plt.show()"
      ],
      "metadata": {
        "colab": {
          "base_uri": "https://localhost:8080/",
          "height": 447
        },
        "id": "kcAFUm9HIqf2",
        "outputId": "972154e1-1458-4712-b1e3-36d659e98288"
      },
      "execution_count": null,
      "outputs": [
        {
          "output_type": "display_data",
          "data": {
            "text/plain": [
              "<Figure size 1800x864 with 4 Axes>"
            ],
            "image/png": "[encoded data removed]"
          },
          "metadata": {
            "needs_background": "light"
          }
        }
      ]
    },
    {
      "cell_type": "markdown",
      "source": [
        "일본을 제외하고 다른 지역에서는 2001년도 이후에 판매량이 증가하는 것을 볼 수 있고,2009년도 이후에 떨어지는 것을 볼 수 있습니다.  \n",
        "2008, 2009에 가장 판매량이 높은 것을 확인할 수 있습니다."
      ],
      "metadata": {
        "id": "tJq_ZFUYLKV5"
      }
    },
    {
      "cell_type": "markdown",
      "source": [
        "#### Sports"
      ],
      "metadata": {
        "id": "UpBYwzKFL_zo"
      }
    },
    {
      "cell_type": "markdown",
      "source": [
        "연도별 지역의 Sports 장르 판매량을 확인해 보겠습니다."
      ],
      "metadata": {
        "id": "-m3GGxrfL2gj"
      }
    },
    {
      "cell_type": "code",
      "source": [
        "#연도별  지역의 Sports 판매량\n",
        "sales_features = [\"NA_Sales\",\"EU_Sales\",\"JP_Sales\",\"Other_Sales\"]\n",
        "\n",
        "f, ax = plt.subplots(2,2,figsize=(25, 12), constrained_layout=True)\n",
        "sales_name = {\"NA_Sales\" : (\"North America\",ax[0][0]),\n",
        "              \"EU_Sales\" : (\"Europe\",ax[0][1]),\n",
        "              \"JP_Sales\" : (\"Japan\", ax[1][0]),\n",
        "              \"Other_Sales\" : (\"Other\",ax[1][1])}\n",
        "\n",
        "for feature in sales_features:\n",
        "  year_games = pd.DataFrame(df.loc[df['Genre']==\"Sports\"].groupby(\"Year\")[feature].sum())\n",
        "  sns.barplot(data=year_games, x=year_games.index, y=feature, ax=sales_name[feature][1])\n",
        "  sales_name[feature][1].set_title(sales_name[feature][0], fontsize=15)\n",
        "  sales_name[feature][1].set_xticklabels(year_games.index, rotation=30)\n",
        "  sales_name[feature][1].set_ylim(0,80)\n",
        "plt.show()"
      ],
      "metadata": {
        "colab": {
          "base_uri": "https://localhost:8080/",
          "height": 447
        },
        "id": "ofvhucVCLFvu",
        "outputId": "743d2f55-0161-4749-92c5-67cf980c13cb"
      },
      "execution_count": null,
      "outputs": [
        {
          "output_type": "display_data",
          "data": {
            "text/plain": [
              "<Figure size 1800x864 with 4 Axes>"
            ],
            "image/png": "[encoded data removed]"
          },
          "metadata": {
            "needs_background": "light"
          }
        }
      ]
    },
    {
      "cell_type": "markdown",
      "source": [
        "일본을 제외하고 Sports 장르에서는 Action 장르처럼 2001년이후 증가하다가 2006년, 2009년도에 가장 판매량이 높고, 그 이후에 감소하는 것을 볼 수 있습니다. "
      ],
      "metadata": {
        "id": "mUqxVLkTNTPs"
      }
    },
    {
      "cell_type": "markdown",
      "source": [
        "#### Shooter"
      ],
      "metadata": {
        "id": "2DkaCR5t9JPI"
      }
    },
    {
      "cell_type": "code",
      "source": [
        "#연도별  지역의 Sports 판매량\n",
        "sales_features = [\"NA_Sales\",\"EU_Sales\",\"JP_Sales\",\"Other_Sales\"]\n",
        "\n",
        "f, ax = plt.subplots(2,2,figsize=(25, 12), constrained_layout=True)\n",
        "sales_name = {\"NA_Sales\" : (\"North America\",ax[0][0]),\n",
        "              \"EU_Sales\" : (\"Europe\",ax[0][1]),\n",
        "              \"JP_Sales\" : (\"Japan\", ax[1][0]),\n",
        "              \"Other_Sales\" : (\"Other\",ax[1][1])}\n",
        "\n",
        "for feature in sales_features:\n",
        "  year_games = pd.DataFrame(df.loc[df['Genre']==\"Shooter\"].groupby(\"Year\")[feature].sum())\n",
        "  sns.barplot(data=year_games, x=year_games.index, y=feature, ax=sales_name[feature][1])\n",
        "  sales_name[feature][1].set_title(sales_name[feature][0], fontsize=15)\n",
        "  sales_name[feature][1].set_xticklabels(year_games.index, rotation=30)\n",
        "  sales_name[feature][1].set_ylim(0,60)\n",
        "plt.show()"
      ],
      "metadata": {
        "colab": {
          "base_uri": "https://localhost:8080/",
          "height": 447
        },
        "id": "062-IJ029PZh",
        "outputId": "72673455-a0c0-4b53-9d2b-3640c85ec82d"
      },
      "execution_count": null,
      "outputs": [
        {
          "output_type": "display_data",
          "data": {
            "text/plain": [
              "<Figure size 1800x864 with 4 Axes>"
            ],
            "image/png": "[encoded data removed]"
          },
          "metadata": {
            "needs_background": "light"
          }
        }
      ]
    },
    {
      "cell_type": "markdown",
      "source": [
        "연도별 shooter 장르의 지역별 출고량입니다."
      ],
      "metadata": {
        "id": "0HiWtw8tRpuv"
      }
    },
    {
      "cell_type": "markdown",
      "source": [
        "#### Role-Playing\n"
      ],
      "metadata": {
        "id": "1F-xaDcG5oHp"
      }
    },
    {
      "cell_type": "code",
      "source": [
        "#연도별 지역의 Role-Playing 판매량\n",
        "sales_features = [\"NA_Sales\",\"EU_Sales\",\"JP_Sales\",\"Other_Sales\"]\n",
        "\n",
        "f, ax = plt.subplots(2,2,figsize=(25, 12), constrained_layout=True)\n",
        "sales_name = {\"NA_Sales\" : (\"North America\",ax[0][0]),\n",
        "              \"EU_Sales\" : (\"Europe\",ax[0][1]),\n",
        "              \"JP_Sales\" : (\"Japan\", ax[1][0]),\n",
        "              \"Other_Sales\" : (\"Other\",ax[1][1])}\n",
        "\n",
        "for feature in sales_features:\n",
        "  year_games = pd.DataFrame(df.loc[df['Genre']==\"Role-Playing\"].groupby(\"Year\")[feature].sum())\n",
        "  sns.barplot(data=year_games, x=year_games.index, y=feature, ax=sales_name[feature][1])\n",
        "  sales_name[feature][1].set_title(sales_name[feature][0], fontsize=15)\n",
        "  sales_name[feature][1].set_xticklabels(year_games.index, rotation=30)\n",
        "  sales_name[feature][1].set_ylim(0,30)\n",
        "plt.show()"
      ],
      "metadata": {
        "colab": {
          "base_uri": "https://localhost:8080/",
          "height": 447
        },
        "id": "MjlFrzvd5vr6",
        "outputId": "e9d10d2e-5a30-4aca-87f7-47f7c52e2125"
      },
      "execution_count": null,
      "outputs": [
        {
          "output_type": "display_data",
          "data": {
            "text/plain": [
              "<Figure size 1800x864 with 4 Axes>"
            ],
            "image/png": "[encoded data removed]"
          },
          "metadata": {
            "needs_background": "light"
          }
        }
      ]
    },
    {
      "cell_type": "markdown",
      "source": [
        "##플랫폼과 회사의 연관성 분석\n",
        "- 귀무가설 : 플랫폼과 회사는 독립(연관성이 없다)이다.\n",
        "- 대립가설 : 플랫폼과 회사는 종속(연관성이 있다)이다."
      ],
      "metadata": {
        "id": "CqZ6GoCq8w9e"
      }
    },
    {
      "cell_type": "code",
      "source": [
        "import scipy.stats as stats\n",
        "\n",
        "platform_publisher_crosstab = pd.crosstab(df[\"Platform\"], df[\"Publisher\"])\n",
        "statistic, pvalue, dof, exp =  stats.chi2_contingency(platform_publisher_crosstab)\n",
        "display(platform_publisher_crosstab.head())\n",
        "print(\"pvalue : \", pvalue)"
      ],
      "metadata": {
        "colab": {
          "base_uri": "https://localhost:8080/",
          "height": 417
        },
        "id": "ISD61Mnu76jc",
        "outputId": "6b1f832d-2c81-4cee-80cb-19df2c55e4c0"
      },
      "execution_count": null,
      "outputs": [
        {
          "output_type": "display_data",
          "data": {
            "text/plain": [
              "Publisher  10TACLE Studios  1C Company  20th Century Fox Video Games  2D Boy  \\\n",
              "Platform                                                                       \n",
              "2600                     0           0                             5       0   \n",
              "3DO                      0           0                             0       0   \n",
              "3DS                      0           0                             0       0   \n",
              "DC                       0           0                             0       0   \n",
              "DS                       2           0                             0       0   \n",
              "\n",
              "Publisher  3DO  49Games  505 Games  5pb  7G//AMES  989 Sports  ...  \\\n",
              "Platform                                                       ...   \n",
              "2600         0        0          0    0         0           0  ...   \n",
              "3DO          0        0          0    0         0           0  ...   \n",
              "3DS          0        0          3    1         0           0  ...   \n",
              "DC           0        0          0    0         0           0  ...   \n",
              "DS           0        0         64    0         2           0  ...   \n",
              "\n",
              "Publisher  Zushi Games  bitComposer Games  dramatic create  fonfun  iWin  \\\n",
              "Platform                                                                   \n",
              "2600                 0                  0                0       0     0   \n",
              "3DO                  0                  0                0       0     0   \n",
              "3DS                  0                  0                0       0     0   \n",
              "DC                   0                  0                0       0     0   \n",
              "DS                   7                  0                0       0     1   \n",
              "\n",
              "Publisher  id Software  imageepoch Inc.  inXile Entertainment  mixi, Inc  \\\n",
              "Platform                                                                   \n",
              "2600                 0                0                     0          0   \n",
              "3DO                  0                0                     0          0   \n",
              "3DS                  0                2                     0          1   \n",
              "DC                   0                0                     0          0   \n",
              "DS                   0                0                     0          0   \n",
              "\n",
              "Publisher  responDESIGN  \n",
              "Platform                 \n",
              "2600                  0  \n",
              "3DO                   0  \n",
              "3DS                   0  \n",
              "DC                    0  \n",
              "DS                    0  \n",
              "\n",
              "[5 rows x 575 columns]"
            ],
            "text/html": [
              "\n",
              "  <div id=\"df-d698cf5c-551f-451b-b944-7357babb7f11\">\n",
              "    <div class=\"colab-df-container\">\n",
              "      <div>\n",
              "<style scoped>\n",
              "    .dataframe tbody tr th:only-of-type {\n",
              "        vertical-align: middle;\n",
              "    }\n",
              "\n",
              "    .dataframe tbody tr th {\n",
              "        vertical-align: top;\n",
              "    }\n",
              "\n",
              "    .dataframe thead th {\n",
              "        text-align: right;\n",
              "    }\n",
              "</style>\n",
              "<table border=\"1\" class=\"dataframe\">\n",
              "  <thead>\n",
              "    <tr style=\"text-align: right;\">\n",
              "      <th>Publisher</th>\n",
              "      <th>10TACLE Studios</th>\n",
              "      <th>1C Company</th>\n",
              "      <th>20th Century Fox Video Games</th>\n",
              "      <th>2D Boy</th>\n",
              "      <th>3DO</th>\n",
              "      <th>49Games</th>\n",
              "      <th>505 Games</th>\n",
              "      <th>5pb</th>\n",
              "      <th>7G//AMES</th>\n",
              "      <th>989 Sports</th>\n",
              "      <th>...</th>\n",
              "      <th>Zushi Games</th>\n",
              "      <th>bitComposer Games</th>\n",
              "      <th>dramatic create</th>\n",
              "      <th>fonfun</th>\n",
              "      <th>iWin</th>\n",
              "      <th>id Software</th>\n",
              "      <th>imageepoch Inc.</th>\n",
              "      <th>inXile Entertainment</th>\n",
              "      <th>mixi, Inc</th>\n",
              "      <th>responDESIGN</th>\n",
              "    </tr>\n",
              "    <tr>\n",
              "      <th>Platform</th>\n",
              "      <th></th>\n",
              "      <th></th>\n",
              "      <th></th>\n",
              "      <th></th>\n",
              "      <th></th>\n",
              "      <th></th>\n",
              "      <th></th>\n",
              "      <th></th>\n",
              "      <th></th>\n",
              "      <th></th>\n",
              "      <th></th>\n",
              "      <th></th>\n",
              "      <th></th>\n",
              "      <th></th>\n",
              "      <th></th>\n",
              "      <th></th>\n",
              "      <th></th>\n",
              "      <th></th>\n",
              "      <th></th>\n",
              "      <th></th>\n",
              "      <th></th>\n",
              "    </tr>\n",
              "  </thead>\n",
              "  <tbody>\n",
              "    <tr>\n",
              "      <th>2600</th>\n",
              "      <td>0</td>\n",
              "      <td>0</td>\n",
              "      <td>5</td>\n",
              "      <td>0</td>\n",
              "      <td>0</td>\n",
              "      <td>0</td>\n",
              "      <td>0</td>\n",
              "      <td>0</td>\n",
              "      <td>0</td>\n",
              "      <td>0</td>\n",
              "      <td>...</td>\n",
              "      <td>0</td>\n",
              "      <td>0</td>\n",
              "      <td>0</td>\n",
              "      <td>0</td>\n",
              "      <td>0</td>\n",
              "      <td>0</td>\n",
              "      <td>0</td>\n",
              "      <td>0</td>\n",
              "      <td>0</td>\n",
              "      <td>0</td>\n",
              "    </tr>\n",
              "    <tr>\n",
              "      <th>3DO</th>\n",
              "      <td>0</td>\n",
              "      <td>0</td>\n",
              "      <td>0</td>\n",
              "      <td>0</td>\n",
              "      <td>0</td>\n",
              "      <td>0</td>\n",
              "      <td>0</td>\n",
              "      <td>0</td>\n",
              "      <td>0</td>\n",
              "      <td>0</td>\n",
              "      <td>...</td>\n",
              "      <td>0</td>\n",
              "      <td>0</td>\n",
              "      <td>0</td>\n",
              "      <td>0</td>\n",
              "      <td>0</td>\n",
              "      <td>0</td>\n",
              "      <td>0</td>\n",
              "      <td>0</td>\n",
              "      <td>0</td>\n",
              "      <td>0</td>\n",
              "    </tr>\n",
              "    <tr>\n",
              "      <th>3DS</th>\n",
              "      <td>0</td>\n",
              "      <td>0</td>\n",
              "      <td>0</td>\n",
              "      <td>0</td>\n",
              "      <td>0</td>\n",
              "      <td>0</td>\n",
              "      <td>3</td>\n",
              "      <td>1</td>\n",
              "      <td>0</td>\n",
              "      <td>0</td>\n",
              "      <td>...</td>\n",
              "      <td>0</td>\n",
              "      <td>0</td>\n",
              "      <td>0</td>\n",
              "      <td>0</td>\n",
              "      <td>0</td>\n",
              "      <td>0</td>\n",
              "      <td>2</td>\n",
              "      <td>0</td>\n",
              "      <td>1</td>\n",
              "      <td>0</td>\n",
              "    </tr>\n",
              "    <tr>\n",
              "      <th>DC</th>\n",
              "      <td>0</td>\n",
              "      <td>0</td>\n",
              "      <td>0</td>\n",
              "      <td>0</td>\n",
              "      <td>0</td>\n",
              "      <td>0</td>\n",
              "      <td>0</td>\n",
              "      <td>0</td>\n",
              "      <td>0</td>\n",
              "      <td>0</td>\n",
              "      <td>...</td>\n",
              "      <td>0</td>\n",
              "      <td>0</td>\n",
              "      <td>0</td>\n",
              "      <td>0</td>\n",
              "      <td>0</td>\n",
              "      <td>0</td>\n",
              "      <td>0</td>\n",
              "      <td>0</td>\n",
              "      <td>0</td>\n",
              "      <td>0</td>\n",
              "    </tr>\n",
              "    <tr>\n",
              "      <th>DS</th>\n",
              "      <td>2</td>\n",
              "      <td>0</td>\n",
              "      <td>0</td>\n",
              "      <td>0</td>\n",
              "      <td>0</td>\n",
              "      <td>0</td>\n",
              "      <td>64</td>\n",
              "      <td>0</td>\n",
              "      <td>2</td>\n",
              "      <td>0</td>\n",
              "      <td>...</td>\n",
              "      <td>7</td>\n",
              "      <td>0</td>\n",
              "      <td>0</td>\n",
              "      <td>0</td>\n",
              "      <td>1</td>\n",
              "      <td>0</td>\n",
              "      <td>0</td>\n",
              "      <td>0</td>\n",
              "      <td>0</td>\n",
              "      <td>0</td>\n",
              "    </tr>\n",
              "  </tbody>\n",
              "</table>\n",
              "<p>5 rows × 575 columns</p>\n",
              "</div>\n",
              "      <button class=\"colab-df-convert\" onclick=\"convertToInteractive('df-d698cf5c-551f-451b-b944-7357babb7f11')\"\n",
              "              title=\"Convert this dataframe to an interactive table.\"\n",
              "              style=\"display:none;\">\n",
              "        \n",
              "  <svg xmlns=\"http://www.w3.org/2000/svg\" height=\"24px\"viewBox=\"0 0 24 24\"\n",
              "       width=\"24px\">\n",
              "    <path d=\"M0 0h24v24H0V0z\" fill=\"none\"/>\n",
              "    <path d=\"M18.56 5.44l.94 2.06.94-2.06 2.06-.94-2.06-.94-.94-2.06-.94 2.06-2.06.94zm-11 1L8.5 8.5l.94-2.06 2.06-.94-2.06-.94L8.5 2.5l-.94 2.06-2.06.94zm10 10l.94 2.06.94-2.06 2.06-.94-2.06-.94-.94-2.06-.94 2.06-2.06.94z\"/><path d=\"M17.41 7.96l-1.37-1.37c-.4-.4-.92-.59-1.43-.59-.52 0-1.04.2-1.43.59L10.3 9.45l-7.72 7.72c-.78.78-.78 2.05 0 2.83L4 21.41c.39.39.9.59 1.41.59.51 0 1.02-.2 1.41-.59l7.78-7.78 2.81-2.81c.8-.78.8-2.07 0-2.86zM5.41 20L4 18.59l7.72-7.72 1.47 1.35L5.41 20z\"/>\n",
              "  </svg>\n",
              "      </button>\n",
              "      \n",
              "  <style>\n",
              "    .colab-df-container {\n",
              "      display:flex;\n",
              "      flex-wrap:wrap;\n",
              "      gap: 12px;\n",
              "    }\n",
              "\n",
              "    .colab-df-convert {\n",
              "      background-color: #E8F0FE;\n",
              "      border: none;\n",
              "      border-radius: 50%;\n",
              "      cursor: pointer;\n",
              "      display: none;\n",
              "      fill: #1967D2;\n",
              "      height: 32px;\n",
              "      padding: 0 0 0 0;\n",
              "      width: 32px;\n",
              "    }\n",
              "\n",
              "    .colab-df-convert:hover {\n",
              "      background-color: #E2EBFA;\n",
              "      box-shadow: 0px 1px 2px rgba(60, 64, 67, 0.3), 0px 1px 3px 1px rgba(60, 64, 67, 0.15);\n",
              "      fill: #174EA6;\n",
              "    }\n",
              "\n",
              "    [theme=dark] .colab-df-convert {\n",
              "      background-color: #3B4455;\n",
              "      fill: #D2E3FC;\n",
              "    }\n",
              "\n",
              "    [theme=dark] .colab-df-convert:hover {\n",
              "      background-color: #434B5C;\n",
              "      box-shadow: 0px 1px 3px 1px rgba(0, 0, 0, 0.15);\n",
              "      filter: drop-shadow(0px 1px 2px rgba(0, 0, 0, 0.3));\n",
              "      fill: #FFFFFF;\n",
              "    }\n",
              "  </style>\n",
              "\n",
              "      <script>\n",
              "        const buttonEl =\n",
              "          document.querySelector('#df-d698cf5c-551f-451b-b944-7357babb7f11 button.colab-df-convert');\n",
              "        buttonEl.style.display =\n",
              "          google.colab.kernel.accessAllowed ? 'block' : 'none';\n",
              "\n",
              "        async function convertToInteractive(key) {\n",
              "          const element = document.querySelector('#df-d698cf5c-551f-451b-b944-7357babb7f11');\n",
              "          const dataTable =\n",
              "            await google.colab.kernel.invokeFunction('convertToInteractive',\n",
              "                                                     [key], {});\n",
              "          if (!dataTable) return;\n",
              "\n",
              "          const docLinkHtml = 'Like what you see? Visit the ' +\n",
              "            '<a target=\"_blank\" href=https://colab.research.google.com/notebooks/data_table.ipynb>data table notebook</a>'\n",
              "            + ' to learn more about interactive tables.';\n",
              "          element.innerHTML = '';\n",
              "          dataTable['output_type'] = 'display_data';\n",
              "          await google.colab.output.renderOutput(dataTable, element);\n",
              "          const docLink = document.createElement('div');\n",
              "          docLink.innerHTML = docLinkHtml;\n",
              "          element.appendChild(docLink);\n",
              "        }\n",
              "      </script>\n",
              "    </div>\n",
              "  </div>\n",
              "  "
            ]
          },
          "metadata": {}
        },
        {
          "output_type": "stream",
          "name": "stdout",
          "text": [
            "pvalue :  0.0\n"
          ]
        }
      ]
    },
    {
      "cell_type": "markdown",
      "source": [
        "귀무가설을 기각하기 때문에 플랫폼과 회사는 연관성이 있을 가능성이 있다."
      ],
      "metadata": {
        "id": "dc70Pjdn866n"
      }
    },
    {
      "cell_type": "markdown",
      "source": [
        "##결과"
      ],
      "metadata": {
        "id": "lfdyJg7nRw1j"
      }
    },
    {
      "cell_type": "markdown",
      "source": [
        "![image.png](data:image/png;base64,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)"
      ],
      "metadata": {
        "id": "1nIqdt25Rz8D"
      }
    },
    {
      "cell_type": "markdown",
      "source": [
        "일본 외 지역(북미, 유럽, 기타)의 경우\n",
        "1. Action 장르, Take-Two Interactive의 Grand Theft Auto 시리즈 게임 설계를 제안\n",
        "2. Sports 장르, Electronic Arts의 FIFA 시리즈 게임과 Nintendo의 Wii Sports 시리즈를 제안\n",
        "3. Shooter 장르, Activision의 Call of Duty 시리즈 게임을 제안\n",
        "\n",
        "일본의 경우\n",
        "1. Role-Playing 장르, Ninetend의 Pokemon 시리즈 게임을 제안\n",
        "\n",
        "플랫폼의 경우는 회사와 연관이 되어있는 플랫폼을 선택하는 것을 제안"
      ],
      "metadata": {
        "id": "qocRj1G6R2r3"
      }
    }
  ]
}